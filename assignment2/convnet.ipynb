{
 "metadata": {
  "name": "",
  "signature": "sha256:31a4be36ec01810d0aab85f7c2df94a19eac73731208864bae0290d92b54fc44"
 },
 "nbformat": 3,
 "nbformat_minor": 0,
 "worksheets": [
  {
   "cells": [
    {
     "cell_type": "markdown",
     "metadata": {},
     "source": [
      "# Train a ConvNet!\n",
      "We now have a generic solver and a bunch of modularized layers. It's time to put it all together, and train a ConvNet to recognize the classes in CIFAR-10. In this notebook we will walk you through training a simple two-layer ConvNet and then set you free to build the best net that you can to perform well on CIFAR-10.\n",
      "\n",
      "Open up the file `cs231n/classifiers/convnet.py`; you will see that the `two_layer_convnet` function computes the loss and gradients for a two-layer ConvNet. Note that this function uses the \"sandwich\" layers defined in `cs231n/layer_utils.py`. "
     ]
    },
    {
     "cell_type": "code",
     "collapsed": false,
     "input": [
      "# As usual, a bit of setup\n",
      "\n",
      "import numpy as np\n",
      "import matplotlib.pyplot as plt\n",
      "from cs231n.classifier_trainer import ClassifierTrainer\n",
      "from cs231n.gradient_check import eval_numerical_gradient\n",
      "from cs231n.classifiers.convnet import *\n",
      "\n",
      "%matplotlib inline\n",
      "plt.rcParams['figure.figsize'] = (10.0, 8.0) # set default size of plots\n",
      "plt.rcParams['image.interpolation'] = 'nearest'\n",
      "plt.rcParams['image.cmap'] = 'gray'\n",
      "\n",
      "# for auto-reloading external modules\n",
      "# see http://stackoverflow.com/questions/1907993/autoreload-of-modules-in-ipython\n",
      "%load_ext autoreload\n",
      "%autoreload 2\n",
      "\n",
      "def rel_error(x, y):\n",
      "  \"\"\" returns relative error \"\"\"\n",
      "  return np.max(np.abs(x - y) / (np.maximum(1e-8, np.abs(x) + np.abs(y))))"
     ],
     "language": "python",
     "metadata": {},
     "outputs": [
      {
       "output_type": "stream",
       "stream": "stdout",
       "text": [
        "The autoreload extension is already loaded. To reload it, use:\n",
        "  %reload_ext autoreload\n"
       ]
      }
     ],
     "prompt_number": 18
    },
    {
     "cell_type": "code",
     "collapsed": false,
     "input": [
      "from cs231n.data_utils import load_CIFAR10\n",
      "\n",
      "def get_CIFAR10_data(num_training=49000, num_validation=1000, num_test=1000):\n",
      "    \"\"\"\n",
      "    Load the CIFAR-10 dataset from disk and perform preprocessing to prepare\n",
      "    it for the two-layer neural net classifier. These are the same steps as\n",
      "    we used for the SVM, but condensed to a single function.  \n",
      "    \"\"\"\n",
      "    # Load the raw CIFAR-10 data\n",
      "    cifar10_dir = 'cs231n/datasets/cifar-10-batches-py'\n",
      "    X_train, y_train, X_test, y_test = load_CIFAR10(cifar10_dir)\n",
      "        \n",
      "    # Subsample the data\n",
      "    mask = range(num_training, num_training + num_validation)\n",
      "    X_val = X_train[mask]\n",
      "    y_val = y_train[mask]\n",
      "    mask = range(num_training)\n",
      "    X_train = X_train[mask]\n",
      "    y_train = y_train[mask]\n",
      "    mask = range(num_test)\n",
      "    X_test = X_test[mask]\n",
      "    y_test = y_test[mask]\n",
      "\n",
      "    # Normalize the data: subtract the mean image\n",
      "    mean_image = np.mean(X_train, axis=0)\n",
      "    X_train -= mean_image\n",
      "    X_val -= mean_image\n",
      "    X_test -= mean_image\n",
      "    \n",
      "    # Transpose so that channels come first\n",
      "    X_train = X_train.transpose(0, 3, 1, 2).copy()\n",
      "    X_val = X_val.transpose(0, 3, 1, 2).copy()\n",
      "    X_test = X_test.transpose(0, 3, 1, 2).copy()\n",
      "\n",
      "    return X_train, y_train, X_val, y_val, X_test, y_test\n",
      "\n",
      "\n",
      "# Invoke the above function to get our data.\n",
      "X_train, y_train, X_val, y_val, X_test, y_test = get_CIFAR10_data()\n",
      "print 'Train data shape: ', X_train.shape\n",
      "print 'Train labels shape: ', y_train.shape\n",
      "print 'Validation data shape: ', X_val.shape\n",
      "print 'Validation labels shape: ', y_val.shape\n",
      "print 'Test data shape: ', X_test.shape\n",
      "print 'Test labels shape: ', y_test.shape"
     ],
     "language": "python",
     "metadata": {},
     "outputs": [
      {
       "output_type": "stream",
       "stream": "stdout",
       "text": [
        "Train data shape:  (49000, 3, 32, 32)\n",
        "Train labels shape:  (49000,)\n",
        "Validation data shape:  (1000, 3, 32, 32)\n",
        "Validation labels shape:  (1000,)\n",
        "Test data shape:  (1000, 3, 32, 32)\n",
        "Test labels shape:  (1000,)\n"
       ]
      }
     ],
     "prompt_number": 19
    },
    {
     "cell_type": "markdown",
     "metadata": {},
     "source": [
      "# Sanity check loss\n",
      "After you build a new network, one of the first things you should do is sanity check the loss. When we use the softmax loss, we expect the loss for random weights (and no regularization) to be about `log(C)` for `C` classes. When we add regularization this should go up."
     ]
    },
    {
     "cell_type": "code",
     "collapsed": false,
     "input": [
      "model = init_two_layer_convnet()\n",
      "\n",
      "X = np.random.randn(100, 3, 32, 32)\n",
      "y = np.random.randint(10, size=100)\n",
      "\n",
      "loss, _ = two_layer_convnet(X, model, y, reg=0)\n",
      "\n",
      "# Sanity check: Loss should be about log(10) = 2.3026\n",
      "print 'Sanity check loss (no regularization): ', loss\n",
      "\n",
      "# Sanity check: Loss should go up when you add regularization\n",
      "loss, _ = two_layer_convnet(X, model, y, reg=1, dropout=0.5, leak=0.005)\n",
      "print 'Sanity check loss (with regularization): ', loss"
     ],
     "language": "python",
     "metadata": {},
     "outputs": [
      {
       "output_type": "stream",
       "stream": "stdout",
       "text": [
        "Sanity check loss (no regularization):  2.30252840146\n",
        "Sanity check loss (with regularization): "
       ]
      },
      {
       "output_type": "stream",
       "stream": "stdout",
       "text": [
        " 2.3447333169\n"
       ]
      }
     ],
     "prompt_number": 3
    },
    {
     "cell_type": "markdown",
     "metadata": {},
     "source": [
      "# Gradient check\n",
      "After the loss looks reasonable, you should always use numeric gradient checking to make sure that your backward pass is correct. When you use numeric gradient checking you should use a small amount of artifical data and a small number of neurons at each layer."
     ]
    },
    {
     "cell_type": "code",
     "collapsed": false,
     "input": [
      "num_inputs = 2\n",
      "input_shape = (3, 16, 16)\n",
      "reg = 0.0\n",
      "num_classes = 10\n",
      "X = np.random.randn(num_inputs, *input_shape)\n",
      "y = np.random.randint(num_classes, size=num_inputs)\n",
      "\n",
      "model = init_two_layer_convnet(num_filters=4, filter_size=5, input_shape=input_shape)\n",
      "loss, grads = two_layer_convnet(X, model, y, reg=0.001, dropout=1.0, leak=0.01)\n",
      "for param_name in sorted(grads):\n",
      "    f = lambda _: two_layer_convnet(X, model, y, reg=0.001, dropout=1.0, leak=0.01)[0]\n",
      "    param_grad_num = eval_numerical_gradient(f, model[param_name], verbose=False, h=1e-6)\n",
      "    e = rel_error(param_grad_num, grads[param_name])\n",
      "    print '%s max relative error: %e' % (param_name, rel_error(param_grad_num, grads[param_name]))"
     ],
     "language": "python",
     "metadata": {},
     "outputs": [
      {
       "output_type": "stream",
       "stream": "stdout",
       "text": [
        "W1 max relative error: 7.593283e-02\n",
        "W2 max relative error: 3.575828e-04"
       ]
      },
      {
       "output_type": "stream",
       "stream": "stdout",
       "text": [
        "\n",
        "b1 max relative error: 7.906961e-08\n",
        "b2 max relative error: 1.130034e-09\n"
       ]
      }
     ],
     "prompt_number": 4
    },
    {
     "cell_type": "markdown",
     "metadata": {},
     "source": [
      "# Overfit small data\n",
      "A nice trick is to train your model with just a few training samples. You should be able to overfit small datasets, which will result in very high training accuracy and comparatively low validation accuracy."
     ]
    },
    {
     "cell_type": "code",
     "collapsed": false,
     "input": [
      "# Use a two-layer ConvNet to overfit 50 training examples.\n",
      "\n",
      "model = init_two_layer_convnet()\n",
      "trainer = ClassifierTrainer()\n",
      "best_model, loss_history, train_acc_history, val_acc_history = trainer.train(\n",
      "          X_train[:50], y_train[:50], X_val, y_val, model, two_layer_convnet, dropout=0.8,\n",
      "          reg=0.001, momentum=0.9, learning_rate=0.0001, batch_size=10, num_epochs=10, leak=0.05,\n",
      "          verbose=True)"
     ],
     "language": "python",
     "metadata": {},
     "outputs": [
      {
       "output_type": "stream",
       "stream": "stdout",
       "text": [
        "starting iteration  0\n",
        "Finished epoch 0 / 10: cost 2.304057, train: 0.020000, val 0.075000, lr 1.000000e-04"
       ]
      },
      {
       "output_type": "stream",
       "stream": "stdout",
       "text": [
        "\n",
        "Finished epoch 1 / 10: cost 2.327767, train: 0.260000, val 0.107000, lr 9.500000e-05"
       ]
      },
      {
       "output_type": "stream",
       "stream": "stdout",
       "text": [
        "\n",
        "Finished epoch 2 / 10: cost 2.005569, train: 0.360000, val 0.161000, lr 9.025000e-05"
       ]
      },
      {
       "output_type": "stream",
       "stream": "stdout",
       "text": [
        "\n",
        "Finished epoch 3 / 10: cost 1.740171, train: 0.480000, val 0.188000, lr 8.573750e-05"
       ]
      },
      {
       "output_type": "stream",
       "stream": "stdout",
       "text": [
        "\n",
        "Finished epoch 4 / 10: cost 1.472666, train: 0.640000, val 0.188000, lr 8.145062e-05"
       ]
      },
      {
       "output_type": "stream",
       "stream": "stdout",
       "text": [
        "\n",
        "Finished epoch 5 / 10: cost 1.067591, train: 0.800000, val 0.146000, lr 7.737809e-05"
       ]
      },
      {
       "output_type": "stream",
       "stream": "stdout",
       "text": [
        "\n",
        "Finished epoch 6 / 10: cost 0.446410, train: 0.780000, val 0.154000, lr 7.350919e-05"
       ]
      },
      {
       "output_type": "stream",
       "stream": "stdout",
       "text": [
        "\n",
        "Finished epoch 7 / 10: cost 1.027325, train: 0.780000, val 0.165000, lr 6.983373e-05"
       ]
      },
      {
       "output_type": "stream",
       "stream": "stdout",
       "text": [
        "\n",
        "Finished epoch 8 / 10: cost 0.785756, train: 0.900000, val 0.184000, lr 6.634204e-05"
       ]
      },
      {
       "output_type": "stream",
       "stream": "stdout",
       "text": [
        "\n",
        "Finished epoch 9 / 10: cost 0.039820, train: 0.900000, val 0.153000, lr 6.302494e-05"
       ]
      },
      {
       "output_type": "stream",
       "stream": "stdout",
       "text": [
        "\n",
        "Finished epoch 10 / 10: cost 0.304566, train: 0.960000, val 0.183000, lr 5.987369e-05"
       ]
      },
      {
       "output_type": "stream",
       "stream": "stdout",
       "text": [
        "\n",
        "finished optimization. best validation accuracy: 0.188000\n"
       ]
      }
     ],
     "prompt_number": 5
    },
    {
     "cell_type": "markdown",
     "metadata": {},
     "source": [
      "Plotting the loss, training accuracy, and validation accuracy should show clear overfitting:"
     ]
    },
    {
     "cell_type": "code",
     "collapsed": false,
     "input": [
      "plt.subplot(2, 1, 1)\n",
      "plt.plot(loss_history)\n",
      "plt.xlabel('iteration')\n",
      "plt.ylabel('loss')\n",
      "\n",
      "plt.subplot(2, 1, 2)\n",
      "plt.plot(train_acc_history)\n",
      "plt.plot(val_acc_history)\n",
      "plt.legend(['train', 'val'], loc='upper left')\n",
      "plt.xlabel('epoch')\n",
      "plt.ylabel('accuracy')\n",
      "plt.show()"
     ],
     "language": "python",
     "metadata": {},
     "outputs": [
      {
       "metadata": {},
       "output_type": "display_data",
       "png": "[encoded data removed]",
       "text": [
        "<matplotlib.figure.Figure at 0x10680a850>"
       ]
      }
     ],
     "prompt_number": 7
    },
    {
     "cell_type": "markdown",
     "metadata": {},
     "source": [
      "# Train the net\n",
      "Once the above works, training the net is the next thing to try. You can set the `acc_frequency` parameter to change the frequency at which the training and validation set accuracies are tested. If your parameters are set properly, you should see the training and validation accuracy start to improve within a hundred iterations, and you should be able to train a reasonable model with just one epoch.\n",
      "\n",
      "Using the parameters below you should be able to get around 50% accuracy on the validation set."
     ]
    },
    {
     "cell_type": "code",
     "collapsed": false,
     "input": [
      "model = init_two_layer_convnet(filter_size=5,num_filters=48)\n",
      "trainer = ClassifierTrainer()\n",
      "best_model, loss_history, train_acc_history, val_acc_history = trainer.train(\n",
      "          X_train, y_train, X_val, y_val, model, two_layer_convnet, dropout=0.8, leak=0.01, \n",
      "          reg=8e-3, momentum=0.9, learning_rate=7e-5, batch_size=100, num_epochs=10,\n",
      "          acc_frequency=100, verbose=True)"
     ],
     "language": "python",
     "metadata": {},
     "outputs": [
      {
       "output_type": "stream",
       "stream": "stdout",
       "text": [
        "starting iteration  0\n",
        "Finished epoch 0 / 10: cost 2.303154, train: 0.103000, val 0.135000, lr 7.000000e-05"
       ]
      },
      {
       "output_type": "stream",
       "stream": "stdout",
       "text": [
        "\n",
        "starting iteration "
       ]
      },
      {
       "output_type": "stream",
       "stream": "stdout",
       "text": [
        " 100\n",
        "Finished epoch 0 / 10: cost 1.780322, train: 0.434000, val 0.428000, lr 7.000000e-05"
       ]
      },
      {
       "output_type": "stream",
       "stream": "stdout",
       "text": [
        "\n",
        "starting iteration "
       ]
      },
      {
       "output_type": "stream",
       "stream": "stdout",
       "text": [
        " 200\n",
        "Finished epoch 0 / 10: cost 1.565641, train: 0.433000, val 0.445000, lr 7.000000e-05"
       ]
      },
      {
       "output_type": "stream",
       "stream": "stdout",
       "text": [
        "\n",
        "starting iteration "
       ]
      },
      {
       "output_type": "stream",
       "stream": "stdout",
       "text": [
        " 300\n",
        "Finished epoch 0 / 10: cost 1.321084, train: 0.518000, val 0.502000, lr 7.000000e-05"
       ]
      },
      {
       "output_type": "stream",
       "stream": "stdout",
       "text": [
        "\n",
        "starting iteration "
       ]
      },
      {
       "output_type": "stream",
       "stream": "stdout",
       "text": [
        " 400\n",
        "Finished epoch 0 / 10: cost 1.587898, train: 0.510000, val 0.486000, lr 7.000000e-05"
       ]
      },
      {
       "output_type": "stream",
       "stream": "stdout",
       "text": [
        "\n"
       ]
      },
      {
       "metadata": {},
       "output_type": "display_data",
       "png": "[encoded data removed]",
       "text": [
        "<matplotlib.figure.Figure at 0x107f52f90>"
       ]
      },
      {
       "output_type": "stream",
       "stream": "stdout",
       "text": [
        "Finished epoch 1 / 10: cost 1.198463, train: 0.523000, val 0.512000, lr 6.650000e-05\n",
        "starting iteration "
       ]
      },
      {
       "output_type": "stream",
       "stream": "stdout",
       "text": [
        " 500\n",
        "Finished epoch 1 / 10: cost 1.231465, train: 0.484000, val 0.513000, lr 6.650000e-05"
       ]
      },
      {
       "output_type": "stream",
       "stream": "stdout",
       "text": [
        "\n",
        "starting iteration "
       ]
      },
      {
       "output_type": "stream",
       "stream": "stdout",
       "text": [
        " 600\n",
        "Finished epoch 1 / 10: cost 1.178068, train: 0.532000, val 0.537000, lr 6.650000e-05"
       ]
      },
      {
       "output_type": "stream",
       "stream": "stdout",
       "text": [
        "\n",
        "starting iteration "
       ]
      },
      {
       "output_type": "stream",
       "stream": "stdout",
       "text": [
        " 700\n",
        "Finished epoch 1 / 10: cost 1.300707, train: 0.584000, val 0.553000, lr 6.650000e-05"
       ]
      },
      {
       "output_type": "stream",
       "stream": "stdout",
       "text": [
        "\n",
        "starting iteration "
       ]
      },
      {
       "output_type": "stream",
       "stream": "stdout",
       "text": [
        " 800\n",
        "Finished epoch 1 / 10: cost 1.243417, train: 0.579000, val 0.550000, lr 6.650000e-05"
       ]
      },
      {
       "output_type": "stream",
       "stream": "stdout",
       "text": [
        "\n",
        "starting iteration "
       ]
      },
      {
       "output_type": "stream",
       "stream": "stdout",
       "text": [
        " 900\n",
        "Finished epoch 1 / 10: cost 1.161259, train: 0.628000, val 0.577000, lr 6.650000e-05"
       ]
      },
      {
       "output_type": "stream",
       "stream": "stdout",
       "text": [
        "\n"
       ]
      },
      {
       "metadata": {},
       "output_type": "display_data",
       "png": "[encoded data removed]",
       "text": [
        "<matplotlib.figure.Figure at 0x10533a7d0>"
       ]
      },
      {
       "output_type": "stream",
       "stream": "stdout",
       "text": [
        "Finished epoch 2 / 10: cost 0.912323, train: 0.588000, val 0.587000, lr 6.317500e-05\n",
        "starting iteration "
       ]
      },
      {
       "output_type": "stream",
       "stream": "stdout",
       "text": [
        " 1000\n",
        "Finished epoch 2 / 10: cost 1.292826, train: 0.598000, val 0.572000, lr 6.317500e-05"
       ]
      },
      {
       "output_type": "stream",
       "stream": "stdout",
       "text": [
        "\n",
        "starting iteration "
       ]
      },
      {
       "output_type": "stream",
       "stream": "stdout",
       "text": [
        " 1100\n",
        "Finished epoch 2 / 10: cost 1.191290, train: 0.598000, val 0.570000, lr 6.317500e-05"
       ]
      },
      {
       "output_type": "stream",
       "stream": "stdout",
       "text": [
        "\n",
        "starting iteration "
       ]
      },
      {
       "output_type": "stream",
       "stream": "stdout",
       "text": [
        " 1200\n",
        "Finished epoch 2 / 10: cost 1.010450, train: 0.610000, val 0.601000, lr 6.317500e-05"
       ]
      },
      {
       "output_type": "stream",
       "stream": "stdout",
       "text": [
        "\n",
        "starting iteration "
       ]
      },
      {
       "output_type": "stream",
       "stream": "stdout",
       "text": [
        " 1300\n",
        "Finished epoch 2 / 10: cost 1.024838, train: 0.605000, val 0.601000, lr 6.317500e-05"
       ]
      },
      {
       "output_type": "stream",
       "stream": "stdout",
       "text": [
        "\n",
        "starting iteration "
       ]
      },
      {
       "output_type": "stream",
       "stream": "stdout",
       "text": [
        " 1400\n",
        "Finished epoch 2 / 10: cost 0.838420, train: 0.598000, val 0.589000, lr 6.317500e-05"
       ]
      },
      {
       "output_type": "stream",
       "stream": "stdout",
       "text": [
        "\n"
       ]
      },
      {
       "metadata": {},
       "output_type": "display_data",
       "png": "[encoded data removed]",
       "text": [
        "<matplotlib.figure.Figure at 0x10545df50>"
       ]
      },
      {
       "output_type": "stream",
       "stream": "stdout",
       "text": [
        "Finished epoch 3 / 10: cost 0.976320, train: 0.648000, val 0.618000, lr 6.001625e-05\n",
        "starting iteration "
       ]
      },
      {
       "output_type": "stream",
       "stream": "stdout",
       "text": [
        " 1500\n",
        "Finished epoch 3 / 10: cost 0.965024, train: 0.629000, val 0.592000, lr 6.001625e-05"
       ]
      },
      {
       "output_type": "stream",
       "stream": "stdout",
       "text": [
        "\n",
        "starting iteration "
       ]
      },
      {
       "output_type": "stream",
       "stream": "stdout",
       "text": [
        " 1600\n",
        "Finished epoch 3 / 10: cost 1.071780, train: 0.641000, val 0.615000, lr 6.001625e-05"
       ]
      },
      {
       "output_type": "stream",
       "stream": "stdout",
       "text": [
        "\n",
        "starting iteration "
       ]
      },
      {
       "output_type": "stream",
       "stream": "stdout",
       "text": [
        " 1700\n",
        "Finished epoch 3 / 10: cost 1.244108, train: 0.617000, val 0.545000, lr 6.001625e-05"
       ]
      },
      {
       "output_type": "stream",
       "stream": "stdout",
       "text": [
        "\n",
        "starting iteration "
       ]
      },
      {
       "output_type": "stream",
       "stream": "stdout",
       "text": [
        " 1800\n",
        "Finished epoch 3 / 10: cost 0.968230, train: 0.651000, val 0.606000, lr 6.001625e-05"
       ]
      },
      {
       "output_type": "stream",
       "stream": "stdout",
       "text": [
        "\n",
        "starting iteration "
       ]
      },
      {
       "output_type": "stream",
       "stream": "stdout",
       "text": [
        " 1900\n",
        "Finished epoch 3 / 10: cost 1.124949, train: 0.647000, val 0.602000, lr 6.001625e-05"
       ]
      },
      {
       "output_type": "stream",
       "stream": "stdout",
       "text": [
        "\n"
       ]
      },
      {
       "metadata": {},
       "output_type": "display_data",
       "png": "[encoded data removed]",
       "text": [
        "<matplotlib.figure.Figure at 0x1062b2650>"
       ]
      },
      {
       "output_type": "stream",
       "stream": "stdout",
       "text": [
        "Finished epoch 4 / 10: cost 1.065411, train: 0.674000, val 0.624000, lr 5.701544e-05\n",
        "starting iteration "
       ]
      },
      {
       "output_type": "stream",
       "stream": "stdout",
       "text": [
        " 2000\n",
        "Finished epoch 4 / 10: cost 0.890729, train: 0.663000, val 0.608000, lr 5.701544e-05"
       ]
      },
      {
       "output_type": "stream",
       "stream": "stdout",
       "text": [
        "\n",
        "starting iteration "
       ]
      },
      {
       "output_type": "stream",
       "stream": "stdout",
       "text": [
        " 2100\n",
        "Finished epoch 4 / 10: cost 1.037857, train: 0.658000, val 0.608000, lr 5.701544e-05"
       ]
      },
      {
       "output_type": "stream",
       "stream": "stdout",
       "text": [
        "\n",
        "starting iteration "
       ]
      },
      {
       "output_type": "stream",
       "stream": "stdout",
       "text": [
        " 2200\n",
        "Finished epoch 4 / 10: cost 0.924177, train: 0.670000, val 0.612000, lr 5.701544e-05"
       ]
      },
      {
       "output_type": "stream",
       "stream": "stdout",
       "text": [
        "\n",
        "starting iteration "
       ]
      },
      {
       "output_type": "stream",
       "stream": "stdout",
       "text": [
        " 2300\n",
        "Finished epoch 4 / 10: cost 0.874998, train: 0.672000, val 0.614000, lr 5.701544e-05"
       ]
      },
      {
       "output_type": "stream",
       "stream": "stdout",
       "text": [
        "\n",
        "starting iteration "
       ]
      },
      {
       "output_type": "stream",
       "stream": "stdout",
       "text": [
        " 2400\n",
        "Finished epoch 4 / 10: cost 1.136400, train: 0.652000, val 0.626000, lr 5.701544e-05"
       ]
      },
      {
       "output_type": "stream",
       "stream": "stdout",
       "text": [
        "\n"
       ]
      },
      {
       "metadata": {},
       "output_type": "display_data",
       "png": "[encoded data removed]",
       "text": [
        "<matplotlib.figure.Figure at 0x104f07c50>"
       ]
      },
      {
       "output_type": "stream",
       "stream": "stdout",
       "text": [
        "Finished epoch 5 / 10: cost 1.166738, train: 0.665000, val 0.626000, lr 5.416467e-05\n",
        "starting iteration "
       ]
      },
      {
       "output_type": "stream",
       "stream": "stdout",
       "text": [
        " 2500\n",
        "Finished epoch 5 / 10: cost 1.021658, train: 0.681000, val 0.628000, lr 5.416467e-05"
       ]
      },
      {
       "output_type": "stream",
       "stream": "stdout",
       "text": [
        "\n",
        "starting iteration "
       ]
      },
      {
       "output_type": "stream",
       "stream": "stdout",
       "text": [
        " 2600\n",
        "Finished epoch 5 / 10: cost 1.075076, train: 0.665000, val 0.621000, lr 5.416467e-05"
       ]
      },
      {
       "output_type": "stream",
       "stream": "stdout",
       "text": [
        "\n",
        "starting iteration "
       ]
      },
      {
       "output_type": "stream",
       "stream": "stdout",
       "text": [
        " 2700\n",
        "Finished epoch 5 / 10: cost 0.751639, train: 0.691000, val 0.628000, lr 5.416467e-05"
       ]
      },
      {
       "output_type": "stream",
       "stream": "stdout",
       "text": [
        "\n",
        "starting iteration "
       ]
      },
      {
       "output_type": "stream",
       "stream": "stdout",
       "text": [
        " 2800\n",
        "Finished epoch 5 / 10: cost 0.869617, train: 0.665000, val 0.627000, lr 5.416467e-05"
       ]
      },
      {
       "output_type": "stream",
       "stream": "stdout",
       "text": [
        "\n",
        "starting iteration "
       ]
      },
      {
       "output_type": "stream",
       "stream": "stdout",
       "text": [
        " 2900\n",
        "Finished epoch 5 / 10: cost 0.798215, train: 0.704000, val 0.629000, lr 5.416467e-05"
       ]
      },
      {
       "output_type": "stream",
       "stream": "stdout",
       "text": [
        "\n"
       ]
      },
      {
       "metadata": {},
       "output_type": "display_data",
       "png": "[encoded data removed]",
       "text": [
        "<matplotlib.figure.Figure at 0x105489cd0>"
       ]
      },
      {
       "output_type": "stream",
       "stream": "stdout",
       "text": [
        "Finished epoch 6 / 10: cost 1.013287, train: 0.683000, val 0.636000, lr 5.145643e-05\n",
        "starting iteration "
       ]
      },
      {
       "output_type": "stream",
       "stream": "stdout",
       "text": [
        " 3000\n",
        "Finished epoch 6 / 10: cost 0.899964, train: 0.680000, val 0.614000, lr 5.145643e-05"
       ]
      },
      {
       "output_type": "stream",
       "stream": "stdout",
       "text": [
        "\n",
        "starting iteration "
       ]
      },
      {
       "output_type": "stream",
       "stream": "stdout",
       "text": [
        " 3100\n",
        "Finished epoch 6 / 10: cost 0.898337, train: 0.692000, val 0.626000, lr 5.145643e-05"
       ]
      },
      {
       "output_type": "stream",
       "stream": "stdout",
       "text": [
        "\n",
        "starting iteration "
       ]
      },
      {
       "output_type": "stream",
       "stream": "stdout",
       "text": [
        " 3200\n",
        "Finished epoch 6 / 10: cost 1.019873, train: 0.685000, val 0.618000, lr 5.145643e-05"
       ]
      },
      {
       "output_type": "stream",
       "stream": "stdout",
       "text": [
        "\n",
        "starting iteration "
       ]
      },
      {
       "output_type": "stream",
       "stream": "stdout",
       "text": [
        " 3300\n",
        "Finished epoch 6 / 10: cost 0.776318, train: 0.676000, val 0.643000, lr 5.145643e-05"
       ]
      },
      {
       "output_type": "stream",
       "stream": "stdout",
       "text": [
        "\n",
        "starting iteration "
       ]
      },
      {
       "output_type": "stream",
       "stream": "stdout",
       "text": [
        " 3400\n",
        "Finished epoch 6 / 10: cost 0.995117, train: 0.686000, val 0.635000, lr 5.145643e-05"
       ]
      },
      {
       "output_type": "stream",
       "stream": "stdout",
       "text": [
        "\n"
       ]
      },
      {
       "metadata": {},
       "output_type": "display_data",
       "png": "[encoded data removed]",
       "text": [
        "<matplotlib.figure.Figure at 0x108764990>"
       ]
      },
      {
       "output_type": "stream",
       "stream": "stdout",
       "text": [
        "Finished epoch 7 / 10: cost 0.959920, train: 0.693000, val 0.636000, lr 4.888361e-05\n",
        "starting iteration "
       ]
      },
      {
       "output_type": "stream",
       "stream": "stdout",
       "text": [
        " 3500\n",
        "Finished epoch 7 / 10: cost 0.823935, train: 0.707000, val 0.633000, lr 4.888361e-05"
       ]
      },
      {
       "output_type": "stream",
       "stream": "stdout",
       "text": [
        "\n",
        "starting iteration "
       ]
      },
      {
       "output_type": "stream",
       "stream": "stdout",
       "text": [
        " 3600\n",
        "Finished epoch 7 / 10: cost 0.867947, train: 0.721000, val 0.650000, lr 4.888361e-05"
       ]
      },
      {
       "output_type": "stream",
       "stream": "stdout",
       "text": [
        "\n",
        "starting iteration "
       ]
      },
      {
       "output_type": "stream",
       "stream": "stdout",
       "text": [
        " 3700\n",
        "Finished epoch 7 / 10: cost 0.848244, train: 0.689000, val 0.645000, lr 4.888361e-05"
       ]
      },
      {
       "output_type": "stream",
       "stream": "stdout",
       "text": [
        "\n",
        "starting iteration "
       ]
      },
      {
       "output_type": "stream",
       "stream": "stdout",
       "text": [
        " 3800\n",
        "Finished epoch 7 / 10: cost 0.716155, train: 0.701000, val 0.631000, lr 4.888361e-05"
       ]
      },
      {
       "output_type": "stream",
       "stream": "stdout",
       "text": [
        "\n",
        "starting iteration "
       ]
      },
      {
       "output_type": "stream",
       "stream": "stdout",
       "text": [
        " 3900\n",
        "Finished epoch 7 / 10: cost 1.161722, train: 0.695000, val 0.606000, lr 4.888361e-05"
       ]
      },
      {
       "output_type": "stream",
       "stream": "stdout",
       "text": [
        "\n"
       ]
      },
      {
       "metadata": {},
       "output_type": "display_data",
       "png": "[encoded data removed]",
       "text": [
        "<matplotlib.figure.Figure at 0x1087ab5d0>"
       ]
      },
      {
       "output_type": "stream",
       "stream": "stdout",
       "text": [
        "Finished epoch 8 / 10: cost 0.879157, train: 0.723000, val 0.648000, lr 4.643943e-05\n",
        "starting iteration "
       ]
      },
      {
       "output_type": "stream",
       "stream": "stdout",
       "text": [
        " 4000\n",
        "Finished epoch 8 / 10: cost 0.900380, train: 0.689000, val 0.632000, lr 4.643943e-05"
       ]
      },
      {
       "output_type": "stream",
       "stream": "stdout",
       "text": [
        "\n",
        "starting iteration "
       ]
      },
      {
       "output_type": "stream",
       "stream": "stdout",
       "text": [
        " 4100\n",
        "Finished epoch 8 / 10: cost 0.904354, train: 0.706000, val 0.636000, lr 4.643943e-05"
       ]
      },
      {
       "output_type": "stream",
       "stream": "stdout",
       "text": [
        "\n",
        "starting iteration "
       ]
      },
      {
       "output_type": "stream",
       "stream": "stdout",
       "text": [
        " 4200\n",
        "Finished epoch 8 / 10: cost 0.925154, train: 0.678000, val 0.607000, lr 4.643943e-05"
       ]
      },
      {
       "output_type": "stream",
       "stream": "stdout",
       "text": [
        "\n",
        "starting iteration "
       ]
      },
      {
       "output_type": "stream",
       "stream": "stdout",
       "text": [
        " 4300\n",
        "Finished epoch 8 / 10: cost 0.760950, train: 0.682000, val 0.625000, lr 4.643943e-05"
       ]
      },
      {
       "output_type": "stream",
       "stream": "stdout",
       "text": [
        "\n",
        "starting iteration "
       ]
      },
      {
       "output_type": "stream",
       "stream": "stdout",
       "text": [
        " 4400\n",
        "Finished epoch 8 / 10: cost 1.063863, train: 0.699000, val 0.644000, lr 4.643943e-05"
       ]
      },
      {
       "output_type": "stream",
       "stream": "stdout",
       "text": [
        "\n"
       ]
      },
      {
       "metadata": {},
       "output_type": "display_data",
       "png": "[encoded data removed]",
       "text": [
        "<matplotlib.figure.Figure at 0x1055783d0>"
       ]
      },
      {
       "output_type": "stream",
       "stream": "stdout",
       "text": [
        "Finished epoch 9 / 10: cost 0.686541, train: 0.688000, val 0.634000, lr 4.411746e-05\n",
        "starting iteration "
       ]
      },
      {
       "output_type": "stream",
       "stream": "stdout",
       "text": [
        " 4500\n",
        "Finished epoch 9 / 10: cost 1.288230, train: 0.685000, val 0.626000, lr 4.411746e-05"
       ]
      },
      {
       "output_type": "stream",
       "stream": "stdout",
       "text": [
        "\n",
        "starting iteration "
       ]
      },
      {
       "output_type": "stream",
       "stream": "stdout",
       "text": [
        " 4600\n",
        "Finished epoch 9 / 10: cost 0.890886, train: 0.646000, val 0.647000, lr 4.411746e-05"
       ]
      },
      {
       "output_type": "stream",
       "stream": "stdout",
       "text": [
        "\n",
        "starting iteration "
       ]
      },
      {
       "output_type": "stream",
       "stream": "stdout",
       "text": [
        " 4700\n",
        "Finished epoch 9 / 10: cost 0.907374, train: 0.714000, val 0.638000, lr 4.411746e-05"
       ]
      },
      {
       "output_type": "stream",
       "stream": "stdout",
       "text": [
        "\n",
        "starting iteration "
       ]
      },
      {
       "output_type": "stream",
       "stream": "stdout",
       "text": [
        " 4800\n",
        "Finished epoch 9 / 10: cost 1.064772, train: 0.719000, val 0.644000, lr 4.411746e-05"
       ]
      },
      {
       "output_type": "stream",
       "stream": "stdout",
       "text": [
        "\n"
       ]
      },
      {
       "metadata": {},
       "output_type": "display_data",
       "png": "[encoded data removed]",
       "text": [
        "<matplotlib.figure.Figure at 0x108a41bd0>"
       ]
      },
      {
       "output_type": "stream",
       "stream": "stdout",
       "text": [
        "Finished epoch 10 / 10: cost 0.776564, train: 0.703000, val 0.639000, lr 4.191159e-05\n",
        "finished optimization. best validation accuracy: 0.650000\n"
       ]
      }
     ],
     "prompt_number": 155
    },
    {
     "cell_type": "code",
     "collapsed": false,
     "input": [
      "plt.subplot(2, 1, 1)\n",
      "plt.plot(loss_history)\n",
      "plt.xlabel('iteration')\n",
      "plt.ylabel('loss')\n",
      "\n",
      "plt.subplot(2, 1, 2)\n",
      "plt.plot(train_acc_history)\n",
      "plt.plot(val_acc_history)\n",
      "plt.legend(['train', 'val'], loc='upper left')\n",
      "plt.xlabel('epoch')\n",
      "plt.ylabel('accuracy')\n",
      "plt.show()"
     ],
     "language": "python",
     "metadata": {},
     "outputs": [
      {
       "metadata": {},
       "output_type": "display_data",
       "png": "[encoded data removed]",
       "text": [
        "<matplotlib.figure.Figure at 0x108254590>"
       ]
      }
     ],
     "prompt_number": 156
    },
    {
     "cell_type": "markdown",
     "metadata": {},
     "source": [
      "# Visualize weights\n",
      "We can visualize the convolutional weights from the first layer. If everything worked properly, these will usually be edges and blobs of various colors and orientations."
     ]
    },
    {
     "cell_type": "code",
     "collapsed": false,
     "input": [
      "from cs231n.vis_utils import visualize_grid\n",
      "\n",
      "grid = visualize_grid(best_model['W1'].transpose(0, 2, 3, 1))\n",
      "plt.imshow(grid.astype('uint8'))"
     ],
     "language": "python",
     "metadata": {},
     "outputs": [
      {
       "metadata": {},
       "output_type": "pyout",
       "prompt_number": 157,
       "text": [
        "<matplotlib.image.AxesImage at 0x108265690>"
       ]
      },
      {
       "metadata": {},
       "output_type": "display_data",
       "png": "[encoded data removed]",
       "text": [
        "<matplotlib.figure.Figure at 0x108a192d0>"
       ]
      }
     ],
     "prompt_number": 157
    },
    {
     "cell_type": "heading",
     "level": 1,
     "metadata": {},
     "source": [
      "Calculate test set accuracy"
     ]
    },
    {
     "cell_type": "code",
     "collapsed": false,
     "input": [
      "scores_test = two_layer_convnet(X_test, best_model, leak=0.01)\n",
      "print 'Test accuracy: ', np.mean(np.argmax(scores_test, axis=1) == y_test)"
     ],
     "language": "python",
     "metadata": {},
     "outputs": [
      {
       "output_type": "stream",
       "stream": "stdout",
       "text": [
        "Test accuracy:  0.652\n"
       ]
      }
     ],
     "prompt_number": 168
    },
    {
     "cell_type": "markdown",
     "metadata": {},
     "source": [
      "# Experiment!\n",
      "Experiment and try to get the best performance that you can on CIFAR-10 using a ConvNet. Here are some ideas to get you started:\n",
      "\n",
      "### Things you should try:\n",
      "- Filter size: Above we used 7x7; this makes pretty pictures but smaller filters may be more efficient\n",
      "- Number of filters: Above we used 32 filters. Do more or fewer do better?\n",
      "- Network depth: The network above has two layers of trainable parameters. Can you do better with a deeper network? You can implement alternative architectures in the file `cs231n/classifiers/convnet.py`. Some good architectures to try include:\n",
      "    - [conv-relu-pool]xN - conv - relu - [affine]xM - [softmax or SVM]\n",
      "    - [conv-relu-pool]XN - [affine]XM - [softmax or SVM]\n",
      "    - [conv-relu-conv-relu-pool]xN - [affine]xM - [softmax or SVM]\n",
      "\n",
      "### Tips for training\n",
      "For each network architecture that you try, you should tune the learning rate and regularization strength. When doing this there are a couple important things to keep in mind:\n",
      "\n",
      "- If the parameters are working well, you should see improvement within a few hundred iterations\n",
      "- Remember the course-to-fine approach for hyperparameter tuning: start by testing a large range of hyperparameters for just a few training iterations to find the combinations of parameters that are working at all.\n",
      "- Once you have found some sets of parameters that seem to work, search more finely around these parameters. You may need to train for more epochs.\n",
      "\n",
      "### Going above and beyond\n",
      "If you are feeling adventurous there are many other features you can implement to try and improve your performance. You are **not required** to implement any of these; however they would be good things to try for extra credit.\n",
      "\n",
      "- Alternative update steps: For the assignment we implemented SGD+momentum and RMSprop; you could try alternatives like AdaGrad or AdaDelta.\n",
      "- Other forms of regularization such as L1 or Dropout\n",
      "- Alternative activation functions such as leaky ReLU or maxout\n",
      "- Model ensembles\n",
      "- Data augmentation\n",
      "\n",
      "### What we expect\n",
      "At the very least, you should be able to train a ConvNet that gets at least 65% accuracy on the validation set. This is just a lower bound - if you are careful it should be possible to get accuracies much higher than that! Extra credit points will be awarded for particularly high-scoring models or unique approaches.\n",
      "\n",
      "You should use the space below to experiment and train your network. The final cell in this notebook should contain the training, validation, and test set accuracies for your final trained network. In this notebook you should also write an explanation of what you did, any additional features that you implemented, and any visualizations or graphs that you make in the process of training and evaluating your network.\n",
      "\n",
      "Have fun and happy training!"
     ]
    },
    {
     "cell_type": "heading",
     "level": 1,
     "metadata": {},
     "source": [
      "Experiments with four-layer Convnet"
     ]
    },
    {
     "cell_type": "markdown",
     "metadata": {},
     "source": [
      "Load and try different hyper-parameters to optimize the four-layer ConvNet architecture defined in classifiers/convnet.py"
     ]
    },
    {
     "cell_type": "code",
     "collapsed": false,
     "input": [
      "# TODO: Train a ConvNet to do really well on CIFAR-10!\n",
      "\n",
      "# Sanity check\n",
      "model = init_four_layer_convnet()\n",
      "\n",
      "X = np.random.randn(100, 3, 32, 32)\n",
      "y = np.random.randint(10, size=100)\n",
      "\n",
      "loss, _ = four_layer_convnet(X, model, y, reg=0)\n",
      "\n",
      "# Sanity check: Loss should be about log(10) = 2.3026\n",
      "print 'Sanity check loss (no regularization): ', loss\n",
      "\n",
      "# Sanity check: Loss should go up when you add regularization\n",
      "loss, _ = four_layer_convnet(X, model, y, reg=1)\n",
      "print 'Sanity check loss (with regularization): ', loss\n"
     ],
     "language": "python",
     "metadata": {},
     "outputs": [
      {
       "output_type": "stream",
       "stream": "stdout",
       "text": [
        "(100, 10)\n",
        "9.00007367094\n",
        "0.0\n",
        "(32, 3, 5, 5)\n",
        "(32, 3, 5, 5)\n",
        "Sanity check loss (no regularization):  9.00007367094\n",
        "(100, 10)"
       ]
      },
      {
       "output_type": "stream",
       "stream": "stdout",
       "text": [
        "\n",
        "9.00007367094\n",
        "0.038461194781\n",
        "(32, 3, 5, 5)\n",
        "(32, 3, 5, 5)\n",
        "Sanity check loss (with regularization):  9.03853486572\n"
       ]
      }
     ],
     "prompt_number": 20
    },
    {
     "cell_type": "code",
     "collapsed": false,
     "input": [
      "# Gradient check\n",
      "num_inputs = 2\n",
      "input_shape = (3, 16, 16)\n",
      "reg = 0.0\n",
      "num_classes = 10\n",
      "X = np.random.randn(num_inputs, *input_shape)\n",
      "y = np.random.randint(num_classes, size=num_inputs)\n",
      "\n",
      "model = init_four_layer_convnet(input_shape=input_shape, num_cv_layer1_filters=5, num_cv_layer2_filters=5, num_fc_layer1=16)\n",
      "loss, grads = four_layer_convnet(X, model, y, reg=0.0, dropout=1.0, leak=0.0)\n",
      "for param_name in sorted(grads):\n",
      "    f = lambda _: four_layer_convnet(X, model, y, reg=0.0, dropout=1.0, leak=0.0)[0]\n",
      "    param_grad_num = eval_numerical_gradient(f, model[param_name], verbose=False, h=1e-6)\n",
      "    e = rel_error(param_grad_num, grads[param_name])\n",
      "    print '%s max relative error: %e' % (param_name, rel_error(param_grad_num, grads[param_name]))\n",
      "    "
     ],
     "language": "python",
     "metadata": {},
     "outputs": [
      {
       "output_type": "stream",
       "stream": "stdout",
       "text": [
        "W1 max relative error: 1.292449e-01\n",
        "W2 max relative error: 8.652357e-02"
       ]
      },
      {
       "output_type": "stream",
       "stream": "stdout",
       "text": [
        "\n",
        "W3 max relative error: 3.848823e-02"
       ]
      },
      {
       "output_type": "stream",
       "stream": "stdout",
       "text": [
        "\n",
        "W4 max relative error: 1.075486e-06"
       ]
      },
      {
       "output_type": "stream",
       "stream": "stdout",
       "text": [
        "\n",
        "b1 max relative error: 2.040998e-03\n",
        "b2 max relative error: 5.468145e-06\n",
        "b3 max relative error: 5.375502e-07"
       ]
      },
      {
       "output_type": "stream",
       "stream": "stdout",
       "text": [
        "\n",
        "b4 max relative error: 3.742002e-10\n"
       ]
      }
     ],
     "prompt_number": 17
    },
    {
     "cell_type": "code",
     "collapsed": false,
     "input": [
      "# Trial-1\n",
      "model_4layer = init_four_layer_convnet(num_cv_layer1_filters=48, num_cv_layer2_filters=32, num_fc_layer1=32)\n",
      "trainer = ClassifierTrainer()\n",
      "best_model, loss_history, train_acc_history, val_acc_history = trainer.train(\n",
      "          X_train, y_train, X_val, y_val, model_4layer, four_layer_convnet, dropout=0.8,\n",
      "          reg=1e-3, momentum=0.90, learning_rate=5e-3, batch_size=100, num_epochs=12, leak=0.0,\n",
      "          acc_frequency=100, verbose=True)\n"
     ],
     "language": "python",
     "metadata": {},
     "outputs": [
      {
       "output_type": "stream",
       "stream": "stdout",
       "text": [
        "starting iteration  0\n",
        "Finished epoch 0 / 12: cost 2.302752, train: 0.100000, val 0.078000, lr 5.000000e-03"
       ]
      },
      {
       "output_type": "stream",
       "stream": "stdout",
       "text": [
        "\n",
        "starting iteration "
       ]
      },
      {
       "output_type": "stream",
       "stream": "stdout",
       "text": [
        " 100\n",
        "Finished epoch 0 / 12: cost 2.302197, train: 0.093000, val 0.119000, lr 5.000000e-03"
       ]
      },
      {
       "output_type": "stream",
       "stream": "stdout",
       "text": [
        "\n",
        "starting iteration "
       ]
      },
      {
       "output_type": "stream",
       "stream": "stdout",
       "text": [
        " 200\n",
        "Finished epoch 0 / 12: cost 2.302279, train: 0.105000, val 0.119000, lr 5.000000e-03"
       ]
      },
      {
       "output_type": "stream",
       "stream": "stdout",
       "text": [
        "\n",
        "starting iteration "
       ]
      },
      {
       "output_type": "stream",
       "stream": "stdout",
       "text": [
        " 300\n",
        "Finished epoch 0 / 12: cost 2.301712, train: 0.100000, val 0.112000, lr 5.000000e-03"
       ]
      },
      {
       "output_type": "stream",
       "stream": "stdout",
       "text": [
        "\n",
        "starting iteration "
       ]
      },
      {
       "output_type": "stream",
       "stream": "stdout",
       "text": [
        " 400\n",
        "Finished epoch 0 / 12: cost 2.302733, train: 0.106000, val 0.112000, lr 5.000000e-03"
       ]
      },
      {
       "output_type": "stream",
       "stream": "stdout",
       "text": [
        "\n",
        "Finished epoch 1 / 12: cost 2.302803, train: 0.103000, val 0.079000, lr 4.750000e-03"
       ]
      },
      {
       "output_type": "stream",
       "stream": "stdout",
       "text": [
        "\n",
        "starting iteration "
       ]
      },
      {
       "output_type": "stream",
       "stream": "stdout",
       "text": [
        " 500\n",
        "Finished epoch 1 / 12: cost 2.303700, train: 0.096000, val 0.079000, lr 4.750000e-03"
       ]
      },
      {
       "output_type": "stream",
       "stream": "stdout",
       "text": [
        "\n",
        "starting iteration "
       ]
      },
      {
       "output_type": "stream",
       "stream": "stdout",
       "text": [
        " 600\n",
        "Finished epoch 1 / 12: cost 2.305635, train: 0.090000, val 0.119000, lr 4.750000e-03"
       ]
      },
      {
       "output_type": "stream",
       "stream": "stdout",
       "text": [
        "\n",
        "starting iteration "
       ]
      },
      {
       "output_type": "stream",
       "stream": "stdout",
       "text": [
        " 700\n",
        "Finished epoch 1 / 12: cost 2.299127, train: 0.105000, val 0.098000, lr 4.750000e-03"
       ]
      },
      {
       "output_type": "stream",
       "stream": "stdout",
       "text": [
        "\n",
        "starting iteration "
       ]
      },
      {
       "output_type": "stream",
       "stream": "stdout",
       "text": [
        " 800\n",
        "Finished epoch 1 / 12: cost 2.304072, train: 0.087000, val 0.119000, lr 4.750000e-03"
       ]
      },
      {
       "output_type": "stream",
       "stream": "stdout",
       "text": [
        "\n",
        "starting iteration "
       ]
      },
      {
       "output_type": "stream",
       "stream": "stdout",
       "text": [
        " 900\n",
        "Finished epoch 1 / 12: cost 2.305713, train: 0.090000, val 0.119000, lr 4.750000e-03"
       ]
      },
      {
       "output_type": "stream",
       "stream": "stdout",
       "text": [
        "\n",
        "Finished epoch 2 / 12: cost 2.299666, train: 0.102000, val 0.087000, lr 4.512500e-03"
       ]
      },
      {
       "output_type": "stream",
       "stream": "stdout",
       "text": [
        "\n",
        "starting iteration "
       ]
      },
      {
       "output_type": "stream",
       "stream": "stdout",
       "text": [
        " 1000\n",
        "Finished epoch 2 / 12: cost 2.303103, train: 0.102000, val 0.119000, lr 4.512500e-03"
       ]
      },
      {
       "output_type": "stream",
       "stream": "stdout",
       "text": [
        "\n",
        "starting iteration "
       ]
      },
      {
       "output_type": "stream",
       "stream": "stdout",
       "text": [
        " 1100\n",
        "Finished epoch 2 / 12: cost 2.069016, train: 0.211000, val 0.232000, lr 4.512500e-03"
       ]
      },
      {
       "output_type": "stream",
       "stream": "stdout",
       "text": [
        "\n",
        "starting iteration "
       ]
      },
      {
       "output_type": "stream",
       "stream": "stdout",
       "text": [
        " 1200\n",
        "Finished epoch 2 / 12: cost 1.895810, train: 0.339000, val 0.354000, lr 4.512500e-03"
       ]
      },
      {
       "output_type": "stream",
       "stream": "stdout",
       "text": [
        "\n",
        "starting iteration "
       ]
      },
      {
       "output_type": "stream",
       "stream": "stdout",
       "text": [
        " 1300\n",
        "Finished epoch 2 / 12: cost 1.675386, train: 0.386000, val 0.412000, lr 4.512500e-03"
       ]
      },
      {
       "output_type": "stream",
       "stream": "stdout",
       "text": [
        "\n",
        "starting iteration "
       ]
      },
      {
       "output_type": "stream",
       "stream": "stdout",
       "text": [
        " 1400\n",
        "Finished epoch 2 / 12: cost 1.645260, train: 0.427000, val 0.431000, lr 4.512500e-03"
       ]
      },
      {
       "output_type": "stream",
       "stream": "stdout",
       "text": [
        "\n",
        "Finished epoch 3 / 12: cost 1.488115, train: 0.478000, val 0.458000, lr 4.286875e-03"
       ]
      },
      {
       "output_type": "stream",
       "stream": "stdout",
       "text": [
        "\n",
        "starting iteration "
       ]
      },
      {
       "output_type": "stream",
       "stream": "stdout",
       "text": [
        " 1500\n",
        "Finished epoch 3 / 12: cost 1.656563, train: 0.520000, val 0.513000, lr 4.286875e-03"
       ]
      },
      {
       "output_type": "stream",
       "stream": "stdout",
       "text": [
        "\n",
        "starting iteration "
       ]
      },
      {
       "output_type": "stream",
       "stream": "stdout",
       "text": [
        " 1600\n",
        "Finished epoch 3 / 12: cost 1.363783, train: 0.479000, val 0.511000, lr 4.286875e-03"
       ]
      },
      {
       "output_type": "stream",
       "stream": "stdout",
       "text": [
        "\n",
        "starting iteration "
       ]
      },
      {
       "output_type": "stream",
       "stream": "stdout",
       "text": [
        " 1700\n",
        "Finished epoch 3 / 12: cost 1.707013, train: 0.482000, val 0.478000, lr 4.286875e-03"
       ]
      },
      {
       "output_type": "stream",
       "stream": "stdout",
       "text": [
        "\n",
        "starting iteration "
       ]
      },
      {
       "output_type": "stream",
       "stream": "stdout",
       "text": [
        " 1800\n",
        "Finished epoch 3 / 12: cost 1.449833, train: 0.534000, val 0.521000, lr 4.286875e-03"
       ]
      },
      {
       "output_type": "stream",
       "stream": "stdout",
       "text": [
        "\n",
        "starting iteration "
       ]
      },
      {
       "output_type": "stream",
       "stream": "stdout",
       "text": [
        " 1900\n",
        "Finished epoch 3 / 12: cost 1.402735, train: 0.496000, val 0.525000, lr 4.286875e-03"
       ]
      },
      {
       "output_type": "stream",
       "stream": "stdout",
       "text": [
        "\n",
        "Finished epoch 4 / 12: cost 1.396318, train: 0.534000, val 0.515000, lr 4.072531e-03"
       ]
      },
      {
       "output_type": "stream",
       "stream": "stdout",
       "text": [
        "\n",
        "starting iteration "
       ]
      },
      {
       "output_type": "stream",
       "stream": "stdout",
       "text": [
        " 2000\n",
        "Finished epoch 4 / 12: cost 1.470397, train: 0.530000, val 0.503000, lr 4.072531e-03"
       ]
      },
      {
       "output_type": "stream",
       "stream": "stdout",
       "text": [
        "\n",
        "starting iteration "
       ]
      },
      {
       "output_type": "stream",
       "stream": "stdout",
       "text": [
        " 2100\n",
        "Finished epoch 4 / 12: cost 1.452664, train: 0.556000, val 0.531000, lr 4.072531e-03"
       ]
      },
      {
       "output_type": "stream",
       "stream": "stdout",
       "text": [
        "\n",
        "starting iteration "
       ]
      },
      {
       "output_type": "stream",
       "stream": "stdout",
       "text": [
        " 2200\n",
        "Finished epoch 4 / 12: cost 1.263716, train: 0.581000, val 0.563000, lr 4.072531e-03"
       ]
      },
      {
       "output_type": "stream",
       "stream": "stdout",
       "text": [
        "\n",
        "starting iteration "
       ]
      },
      {
       "output_type": "stream",
       "stream": "stdout",
       "text": [
        " 2300\n",
        "Finished epoch 4 / 12: cost 1.543580, train: 0.570000, val 0.554000, lr 4.072531e-03"
       ]
      },
      {
       "output_type": "stream",
       "stream": "stdout",
       "text": [
        "\n",
        "starting iteration "
       ]
      },
      {
       "output_type": "stream",
       "stream": "stdout",
       "text": [
        " 2400\n",
        "Finished epoch 4 / 12: cost 1.246480, train: 0.580000, val 0.562000, lr 4.072531e-03"
       ]
      },
      {
       "output_type": "stream",
       "stream": "stdout",
       "text": [
        "\n",
        "Finished epoch 5 / 12: cost 1.239101, train: 0.569000, val 0.571000, lr 3.868905e-03"
       ]
      },
      {
       "output_type": "stream",
       "stream": "stdout",
       "text": [
        "\n",
        "starting iteration "
       ]
      },
      {
       "output_type": "stream",
       "stream": "stdout",
       "text": [
        " 2500\n",
        "Finished epoch 5 / 12: cost 1.292170, train: 0.558000, val 0.544000, lr 3.868905e-03"
       ]
      },
      {
       "output_type": "stream",
       "stream": "stdout",
       "text": [
        "\n",
        "starting iteration "
       ]
      },
      {
       "output_type": "stream",
       "stream": "stdout",
       "text": [
        " 2600\n",
        "Finished epoch 5 / 12: cost 1.351128, train: 0.561000, val 0.542000, lr 3.868905e-03"
       ]
      },
      {
       "output_type": "stream",
       "stream": "stdout",
       "text": [
        "\n",
        "starting iteration "
       ]
      },
      {
       "output_type": "stream",
       "stream": "stdout",
       "text": [
        " 2700\n",
        "Finished epoch 5 / 12: cost 1.226076, train: 0.601000, val 0.560000, lr 3.868905e-03"
       ]
      },
      {
       "output_type": "stream",
       "stream": "stdout",
       "text": [
        "\n",
        "starting iteration "
       ]
      },
      {
       "output_type": "stream",
       "stream": "stdout",
       "text": [
        " 2800\n",
        "Finished epoch 5 / 12: cost 1.220633, train: 0.579000, val 0.598000, lr 3.868905e-03"
       ]
      },
      {
       "output_type": "stream",
       "stream": "stdout",
       "text": [
        "\n",
        "starting iteration "
       ]
      },
      {
       "output_type": "stream",
       "stream": "stdout",
       "text": [
        " 2900\n",
        "Finished epoch 5 / 12: cost 1.390483, train: 0.601000, val 0.557000, lr 3.868905e-03"
       ]
      },
      {
       "output_type": "stream",
       "stream": "stdout",
       "text": [
        "\n",
        "Finished epoch 6 / 12: cost 1.228209, train: 0.602000, val 0.564000, lr 3.675459e-03"
       ]
      },
      {
       "output_type": "stream",
       "stream": "stdout",
       "text": [
        "\n",
        "starting iteration "
       ]
      },
      {
       "output_type": "stream",
       "stream": "stdout",
       "text": [
        " 3000\n",
        "Finished epoch 6 / 12: cost 1.279252, train: 0.602000, val 0.606000, lr 3.675459e-03"
       ]
      },
      {
       "output_type": "stream",
       "stream": "stdout",
       "text": [
        "\n",
        "starting iteration "
       ]
      },
      {
       "output_type": "stream",
       "stream": "stdout",
       "text": [
        " 3100\n",
        "Finished epoch 6 / 12: cost 1.359597, train: 0.622000, val 0.595000, lr 3.675459e-03"
       ]
      },
      {
       "output_type": "stream",
       "stream": "stdout",
       "text": [
        "\n",
        "starting iteration "
       ]
      },
      {
       "output_type": "stream",
       "stream": "stdout",
       "text": [
        " 3200\n",
        "Finished epoch 6 / 12: cost 1.214627, train: 0.616000, val 0.588000, lr 3.675459e-03"
       ]
      },
      {
       "output_type": "stream",
       "stream": "stdout",
       "text": [
        "\n",
        "starting iteration "
       ]
      },
      {
       "output_type": "stream",
       "stream": "stdout",
       "text": [
        " 3300\n",
        "Finished epoch 6 / 12: cost 1.028085, train: 0.646000, val 0.616000, lr 3.675459e-03"
       ]
      },
      {
       "output_type": "stream",
       "stream": "stdout",
       "text": [
        "\n",
        "starting iteration "
       ]
      },
      {
       "output_type": "stream",
       "stream": "stdout",
       "text": [
        " 3400\n",
        "Finished epoch 6 / 12: cost 1.486998, train: 0.646000, val 0.591000, lr 3.675459e-03"
       ]
      },
      {
       "output_type": "stream",
       "stream": "stdout",
       "text": [
        "\n",
        "Finished epoch 7 / 12: cost 0.928998, train: 0.599000, val 0.590000, lr 3.491686e-03"
       ]
      },
      {
       "output_type": "stream",
       "stream": "stdout",
       "text": [
        "\n",
        "starting iteration "
       ]
      },
      {
       "output_type": "stream",
       "stream": "stdout",
       "text": [
        " 3500\n",
        "Finished epoch 7 / 12: cost 1.268738, train: 0.592000, val 0.576000, lr 3.491686e-03"
       ]
      },
      {
       "output_type": "stream",
       "stream": "stdout",
       "text": [
        "\n",
        "starting iteration "
       ]
      },
      {
       "output_type": "stream",
       "stream": "stdout",
       "text": [
        " 3600\n",
        "Finished epoch 7 / 12: cost 1.055564, train: 0.629000, val 0.603000, lr 3.491686e-03"
       ]
      },
      {
       "output_type": "stream",
       "stream": "stdout",
       "text": [
        "\n",
        "starting iteration "
       ]
      },
      {
       "output_type": "stream",
       "stream": "stdout",
       "text": [
        " 3700\n",
        "Finished epoch 7 / 12: cost 1.337411, train: 0.602000, val 0.596000, lr 3.491686e-03"
       ]
      },
      {
       "output_type": "stream",
       "stream": "stdout",
       "text": [
        "\n",
        "starting iteration "
       ]
      },
      {
       "output_type": "stream",
       "stream": "stdout",
       "text": [
        " 3800\n",
        "Finished epoch 7 / 12: cost 1.129703, train: 0.657000, val 0.605000, lr 3.491686e-03"
       ]
      },
      {
       "output_type": "stream",
       "stream": "stdout",
       "text": [
        "\n",
        "starting iteration "
       ]
      },
      {
       "output_type": "stream",
       "stream": "stdout",
       "text": [
        " 3900\n",
        "Finished epoch 7 / 12: cost 1.203492, train: 0.669000, val 0.629000, lr 3.491686e-03"
       ]
      },
      {
       "output_type": "stream",
       "stream": "stdout",
       "text": [
        "\n",
        "Finished epoch 8 / 12: cost 1.301773, train: 0.637000, val 0.617000, lr 3.317102e-03"
       ]
      },
      {
       "output_type": "stream",
       "stream": "stdout",
       "text": [
        "\n",
        "starting iteration "
       ]
      },
      {
       "output_type": "stream",
       "stream": "stdout",
       "text": [
        " 4000\n",
        "Finished epoch 8 / 12: cost 1.126399, train: 0.629000, val 0.580000, lr 3.317102e-03"
       ]
      },
      {
       "output_type": "stream",
       "stream": "stdout",
       "text": [
        "\n",
        "starting iteration "
       ]
      },
      {
       "output_type": "stream",
       "stream": "stdout",
       "text": [
        " 4100\n",
        "Finished epoch 8 / 12: cost 1.052071, train: 0.637000, val 0.612000, lr 3.317102e-03"
       ]
      },
      {
       "output_type": "stream",
       "stream": "stdout",
       "text": [
        "\n",
        "starting iteration "
       ]
      },
      {
       "output_type": "stream",
       "stream": "stdout",
       "text": [
        " 4200\n",
        "Finished epoch 8 / 12: cost 1.094729, train: 0.626000, val 0.597000, lr 3.317102e-03"
       ]
      },
      {
       "output_type": "stream",
       "stream": "stdout",
       "text": [
        "\n",
        "starting iteration "
       ]
      },
      {
       "output_type": "stream",
       "stream": "stdout",
       "text": [
        " 4300\n",
        "Finished epoch 8 / 12: cost 1.255888, train: 0.656000, val 0.603000, lr 3.317102e-03"
       ]
      },
      {
       "output_type": "stream",
       "stream": "stdout",
       "text": [
        "\n",
        "starting iteration "
       ]
      },
      {
       "output_type": "stream",
       "stream": "stdout",
       "text": [
        " 4400\n",
        "Finished epoch 8 / 12: cost 1.154765, train: 0.677000, val 0.630000, lr 3.317102e-03"
       ]
      },
      {
       "output_type": "stream",
       "stream": "stdout",
       "text": [
        "\n",
        "Finished epoch 9 / 12: cost 1.004153, train: 0.628000, val 0.603000, lr 3.151247e-03"
       ]
      },
      {
       "output_type": "stream",
       "stream": "stdout",
       "text": [
        "\n",
        "starting iteration "
       ]
      },
      {
       "output_type": "stream",
       "stream": "stdout",
       "text": [
        " 4500\n",
        "Finished epoch 9 / 12: cost 0.960125, train: 0.668000, val 0.603000, lr 3.151247e-03"
       ]
      },
      {
       "output_type": "stream",
       "stream": "stdout",
       "text": [
        "\n",
        "starting iteration "
       ]
      },
      {
       "output_type": "stream",
       "stream": "stdout",
       "text": [
        " 4600\n",
        "Finished epoch 9 / 12: cost 1.107828, train: 0.663000, val 0.625000, lr 3.151247e-03"
       ]
      },
      {
       "output_type": "stream",
       "stream": "stdout",
       "text": [
        "\n",
        "starting iteration "
       ]
      },
      {
       "output_type": "stream",
       "stream": "stdout",
       "text": [
        " 4700\n",
        "Finished epoch 9 / 12: cost 1.073812, train: 0.659000, val 0.587000, lr 3.151247e-03"
       ]
      },
      {
       "output_type": "stream",
       "stream": "stdout",
       "text": [
        "\n",
        "starting iteration "
       ]
      },
      {
       "output_type": "stream",
       "stream": "stdout",
       "text": [
        " 4800\n",
        "Finished epoch 9 / 12: cost 0.961573, train: 0.681000, val 0.630000, lr 3.151247e-03"
       ]
      },
      {
       "output_type": "stream",
       "stream": "stdout",
       "text": [
        "\n",
        "Finished epoch 10 / 12: cost 1.070746, train: 0.630000, val 0.604000, lr 2.993685e-03"
       ]
      },
      {
       "output_type": "stream",
       "stream": "stdout",
       "text": [
        "\n",
        "starting iteration  4900\n",
        "Finished epoch 10 / 12: cost 0.977103, train: 0.638000, val 0.610000, lr 2.993685e-03"
       ]
      },
      {
       "output_type": "stream",
       "stream": "stdout",
       "text": [
        "\n",
        "starting iteration "
       ]
      },
      {
       "output_type": "stream",
       "stream": "stdout",
       "text": [
        " 5000\n",
        "Finished epoch 10 / 12: cost 1.154478, train: 0.647000, val 0.609000, lr 2.993685e-03"
       ]
      },
      {
       "output_type": "stream",
       "stream": "stdout",
       "text": [
        "\n",
        "starting iteration "
       ]
      },
      {
       "output_type": "stream",
       "stream": "stdout",
       "text": [
        " 5100\n",
        "Finished epoch 10 / 12: cost 1.216394, train: 0.699000, val 0.630000, lr 2.993685e-03"
       ]
      },
      {
       "output_type": "stream",
       "stream": "stdout",
       "text": [
        "\n",
        "starting iteration "
       ]
      },
      {
       "output_type": "stream",
       "stream": "stdout",
       "text": [
        " 5200\n",
        "Finished epoch 10 / 12: cost 1.275742, train: 0.714000, val 0.624000, lr 2.993685e-03"
       ]
      },
      {
       "output_type": "stream",
       "stream": "stdout",
       "text": [
        "\n",
        "starting iteration "
       ]
      },
      {
       "output_type": "stream",
       "stream": "stdout",
       "text": [
        " 5300\n",
        "Finished epoch 10 / 12: cost 1.067554, train: 0.679000, val 0.621000, lr 2.993685e-03"
       ]
      },
      {
       "output_type": "stream",
       "stream": "stdout",
       "text": [
        "\n",
        "Finished epoch 11 / 12: cost 0.678339, train: 0.695000, val 0.644000, lr 2.844000e-03"
       ]
      },
      {
       "output_type": "stream",
       "stream": "stdout",
       "text": [
        "\n",
        "starting iteration "
       ]
      },
      {
       "output_type": "stream",
       "stream": "stdout",
       "text": [
        " 5400\n",
        "Finished epoch 11 / 12: cost 0.924097, train: 0.707000, val 0.626000, lr 2.844000e-03"
       ]
      },
      {
       "output_type": "stream",
       "stream": "stdout",
       "text": [
        "\n",
        "starting iteration "
       ]
      },
      {
       "output_type": "stream",
       "stream": "stdout",
       "text": [
        " 5500\n",
        "Finished epoch 11 / 12: cost 0.897576, train: 0.688000, val 0.644000, lr 2.844000e-03"
       ]
      },
      {
       "output_type": "stream",
       "stream": "stdout",
       "text": [
        "\n",
        "starting iteration "
       ]
      },
      {
       "output_type": "stream",
       "stream": "stdout",
       "text": [
        " 5600\n",
        "Finished epoch 11 / 12: cost 0.984799, train: 0.692000, val 0.629000, lr 2.844000e-03"
       ]
      },
      {
       "output_type": "stream",
       "stream": "stdout",
       "text": [
        "\n",
        "starting iteration "
       ]
      },
      {
       "output_type": "stream",
       "stream": "stdout",
       "text": [
        " 5700\n",
        "Finished epoch 11 / 12: cost 1.176307, train: 0.661000, val 0.630000, lr 2.844000e-03"
       ]
      },
      {
       "output_type": "stream",
       "stream": "stdout",
       "text": [
        "\n",
        "starting iteration "
       ]
      },
      {
       "output_type": "stream",
       "stream": "stdout",
       "text": [
        " 5800\n",
        "Finished epoch 11 / 12: cost 0.897592, train: 0.708000, val 0.651000, lr 2.844000e-03"
       ]
      },
      {
       "output_type": "stream",
       "stream": "stdout",
       "text": [
        "\n",
        "Finished epoch 12 / 12: cost 1.176887, train: 0.687000, val 0.641000, lr 2.701800e-03"
       ]
      },
      {
       "output_type": "stream",
       "stream": "stdout",
       "text": [
        "\n",
        "finished optimization. best validation accuracy: 0.651000\n"
       ]
      }
     ],
     "prompt_number": 35
    },
    {
     "cell_type": "code",
     "collapsed": false,
     "input": [
      "plt.subplot(2, 1, 1)\n",
      "plt.plot(loss_history)\n",
      "plt.xlabel('iteration')\n",
      "plt.ylabel('loss')\n",
      "\n",
      "plt.subplot(2, 1, 2)\n",
      "plt.plot(train_acc_history)\n",
      "plt.plot(val_acc_history)\n",
      "plt.legend(['train', 'val'], loc='upper left')\n",
      "plt.xlabel('epoch')\n",
      "plt.ylabel('accuracy')\n",
      "plt.show()\n",
      "\n",
      "from cs231n.vis_utils import visualize_grid\n",
      "\n",
      "grid = visualize_grid(best_model['W1'].transpose(0, 2, 3, 1))\n",
      "plt.imshow(grid.astype('uint8'))\n"
     ],
     "language": "python",
     "metadata": {},
     "outputs": [
      {
       "metadata": {},
       "output_type": "display_data",
       "png": "[encoded data removed]",
       "text": [
        "<matplotlib.figure.Figure at 0x111924910>"
       ]
      },
      {
       "metadata": {},
       "output_type": "pyout",
       "prompt_number": 37,
       "text": [
        "<matplotlib.image.AxesImage at 0x1124820d0>"
       ]
      },
      {
       "metadata": {},
       "output_type": "display_data",
       "png": "[encoded data removed]",
       "text": [
        "<matplotlib.figure.Figure at 0x112334fd0>"
       ]
      }
     ],
     "prompt_number": 37
    },
    {
     "cell_type": "code",
     "collapsed": false,
     "input": [
      "# Trial-2\n",
      "model_4layer = init_four_layer_convnet(num_cv_layer1_filters=48, num_cv_layer2_filters=32, num_fc_layer1=32)\n",
      "trainer = ClassifierTrainer()\n",
      "best_model, loss_history, train_acc_history, val_acc_history = trainer.train(\n",
      "          X_train, y_train, X_val, y_val, model_4layer, four_layer_convnet, dropout=0.8,\n",
      "          reg=1e-3, momentum=0.90, learning_rate=5e-3, batch_size=100, num_epochs=20, leak=0.0,\n",
      "          acc_frequency=100, verbose=True)\n",
      "\n",
      "## Run-1\n",
      "## Dropout only on 1st affine layer (dropout = 0.8)\n",
      "## best validation accuracy = 67.2% (over 12 epochs)\n",
      "\n",
      "## Run-2\n",
      "## Dropout on both conv layers also enabled (dropout = 0.8)\n",
      "## Leaky ReLU's enabled with leak = 0.01\n",
      "## best validation accuracy = 45.6%\n",
      "\n",
      "## Run-3\n",
      "## Dropout removed from conv layers\n",
      "## best validation accuracy = 61.5%\n",
      "\n",
      "## Run-4\n",
      "## Change initialization weight and bias scales to 8e-3 from 1e-3\n",
      "## Leak to 0.05, and initial learning rate to 8e-3\n",
      "## best validation accuracy = 54.8%\n",
      "\n",
      "## Run-5\n",
      "## Disable Leaky ReLU's i.e. leak=0.0\n",
      "## Epochs = 20\n",
      "## best validation accuracy = 68.1%\n",
      "## test accuracy = 67%\n",
      "## best training accuracy = 81.3%\n"
     ],
     "language": "python",
     "metadata": {},
     "outputs": [
      {
       "output_type": "stream",
       "stream": "stdout",
       "text": [
        "starting iteration  0\n",
        "Finished epoch 0 / 20: cost 2.306440, train: 0.107000, val 0.096000, lr 5.000000e-03"
       ]
      },
      {
       "output_type": "stream",
       "stream": "stdout",
       "text": [
        "\n",
        "starting iteration "
       ]
      },
      {
       "output_type": "stream",
       "stream": "stdout",
       "text": [
        " 100\n",
        "Finished epoch 0 / 20: cost 1.817080, train: 0.320000, val 0.380000, lr 5.000000e-03"
       ]
      },
      {
       "output_type": "stream",
       "stream": "stdout",
       "text": [
        "\n",
        "starting iteration "
       ]
      },
      {
       "output_type": "stream",
       "stream": "stdout",
       "text": [
        " 200\n",
        "Finished epoch 0 / 20: cost 1.510615, train: 0.426000, val 0.447000, lr 5.000000e-03"
       ]
      },
      {
       "output_type": "stream",
       "stream": "stdout",
       "text": [
        "\n",
        "starting iteration "
       ]
      },
      {
       "output_type": "stream",
       "stream": "stdout",
       "text": [
        " 300\n",
        "Finished epoch 0 / 20: cost 1.318972, train: 0.469000, val 0.487000, lr 5.000000e-03"
       ]
      },
      {
       "output_type": "stream",
       "stream": "stdout",
       "text": [
        "\n",
        "starting iteration "
       ]
      },
      {
       "output_type": "stream",
       "stream": "stdout",
       "text": [
        " 400\n",
        "Finished epoch 0 / 20: cost 1.655399, train: 0.506000, val 0.494000, lr 5.000000e-03"
       ]
      },
      {
       "output_type": "stream",
       "stream": "stdout",
       "text": [
        "\n",
        "Finished epoch 1 / 20: cost 1.479304, train: 0.490000, val 0.486000, lr 4.750000e-03"
       ]
      },
      {
       "output_type": "stream",
       "stream": "stdout",
       "text": [
        "\n",
        "starting iteration "
       ]
      },
      {
       "output_type": "stream",
       "stream": "stdout",
       "text": [
        " 500\n",
        "Finished epoch 1 / 20: cost 1.428703, train: 0.488000, val 0.480000, lr 4.750000e-03"
       ]
      },
      {
       "output_type": "stream",
       "stream": "stdout",
       "text": [
        "\n",
        "starting iteration "
       ]
      },
      {
       "output_type": "stream",
       "stream": "stdout",
       "text": [
        " 600\n",
        "Finished epoch 1 / 20: cost 1.554420, train: 0.487000, val 0.482000, lr 4.750000e-03"
       ]
      },
      {
       "output_type": "stream",
       "stream": "stdout",
       "text": [
        "\n",
        "starting iteration "
       ]
      },
      {
       "output_type": "stream",
       "stream": "stdout",
       "text": [
        " 700\n",
        "Finished epoch 1 / 20: cost 1.622511, train: 0.452000, val 0.484000, lr 4.750000e-03"
       ]
      },
      {
       "output_type": "stream",
       "stream": "stdout",
       "text": [
        "\n",
        "starting iteration "
       ]
      },
      {
       "output_type": "stream",
       "stream": "stdout",
       "text": [
        " 800\n",
        "Finished epoch 1 / 20: cost 1.540774, train: 0.511000, val 0.465000, lr 4.750000e-03"
       ]
      },
      {
       "output_type": "stream",
       "stream": "stdout",
       "text": [
        "\n",
        "starting iteration "
       ]
      },
      {
       "output_type": "stream",
       "stream": "stdout",
       "text": [
        " 900\n",
        "Finished epoch 1 / 20: cost 1.374010, train: 0.500000, val 0.494000, lr 4.750000e-03"
       ]
      },
      {
       "output_type": "stream",
       "stream": "stdout",
       "text": [
        "\n",
        "Finished epoch 2 / 20: cost 1.254895, train: 0.552000, val 0.526000, lr 4.512500e-03"
       ]
      },
      {
       "output_type": "stream",
       "stream": "stdout",
       "text": [
        "\n",
        "starting iteration "
       ]
      },
      {
       "output_type": "stream",
       "stream": "stdout",
       "text": [
        " 1000\n",
        "Finished epoch 2 / 20: cost 1.401635, train: 0.509000, val 0.514000, lr 4.512500e-03"
       ]
      },
      {
       "output_type": "stream",
       "stream": "stdout",
       "text": [
        "\n",
        "starting iteration "
       ]
      },
      {
       "output_type": "stream",
       "stream": "stdout",
       "text": [
        " 1100\n",
        "Finished epoch 2 / 20: cost 1.606130, train: 0.541000, val 0.515000, lr 4.512500e-03"
       ]
      },
      {
       "output_type": "stream",
       "stream": "stdout",
       "text": [
        "\n",
        "starting iteration "
       ]
      },
      {
       "output_type": "stream",
       "stream": "stdout",
       "text": [
        " 1200\n",
        "Finished epoch 2 / 20: cost 1.279844, train: 0.542000, val 0.560000, lr 4.512500e-03"
       ]
      },
      {
       "output_type": "stream",
       "stream": "stdout",
       "text": [
        "\n",
        "starting iteration "
       ]
      },
      {
       "output_type": "stream",
       "stream": "stdout",
       "text": [
        " 1300\n",
        "Finished epoch 2 / 20: cost 1.337242, train: 0.546000, val 0.547000, lr 4.512500e-03"
       ]
      },
      {
       "output_type": "stream",
       "stream": "stdout",
       "text": [
        "\n",
        "starting iteration "
       ]
      },
      {
       "output_type": "stream",
       "stream": "stdout",
       "text": [
        " 1400\n",
        "Finished epoch 2 / 20: cost 1.264159, train: 0.563000, val 0.516000, lr 4.512500e-03"
       ]
      },
      {
       "output_type": "stream",
       "stream": "stdout",
       "text": [
        "\n",
        "Finished epoch 3 / 20: cost 1.352912, train: 0.557000, val 0.525000, lr 4.286875e-03"
       ]
      },
      {
       "output_type": "stream",
       "stream": "stdout",
       "text": [
        "\n",
        "starting iteration "
       ]
      },
      {
       "output_type": "stream",
       "stream": "stdout",
       "text": [
        " 1500\n",
        "Finished epoch 3 / 20: cost 1.322944, train: 0.560000, val 0.532000, lr 4.286875e-03"
       ]
      },
      {
       "output_type": "stream",
       "stream": "stdout",
       "text": [
        "\n",
        "starting iteration "
       ]
      },
      {
       "output_type": "stream",
       "stream": "stdout",
       "text": [
        " 1600\n",
        "Finished epoch 3 / 20: cost 1.317396, train: 0.570000, val 0.562000, lr 4.286875e-03"
       ]
      },
      {
       "output_type": "stream",
       "stream": "stdout",
       "text": [
        "\n",
        "starting iteration "
       ]
      },
      {
       "output_type": "stream",
       "stream": "stdout",
       "text": [
        " 1700\n",
        "Finished epoch 3 / 20: cost 1.085793, train: 0.600000, val 0.575000, lr 4.286875e-03"
       ]
      },
      {
       "output_type": "stream",
       "stream": "stdout",
       "text": [
        "\n",
        "starting iteration "
       ]
      },
      {
       "output_type": "stream",
       "stream": "stdout",
       "text": [
        " 1800\n",
        "Finished epoch 3 / 20: cost 1.164053, train: 0.593000, val 0.571000, lr 4.286875e-03"
       ]
      },
      {
       "output_type": "stream",
       "stream": "stdout",
       "text": [
        "\n",
        "starting iteration "
       ]
      },
      {
       "output_type": "stream",
       "stream": "stdout",
       "text": [
        " 1900\n",
        "Finished epoch 3 / 20: cost 1.444078, train: 0.597000, val 0.567000, lr 4.286875e-03"
       ]
      },
      {
       "output_type": "stream",
       "stream": "stdout",
       "text": [
        "\n",
        "Finished epoch 4 / 20: cost 1.304325, train: 0.581000, val 0.583000, lr 4.072531e-03"
       ]
      },
      {
       "output_type": "stream",
       "stream": "stdout",
       "text": [
        "\n",
        "starting iteration "
       ]
      },
      {
       "output_type": "stream",
       "stream": "stdout",
       "text": [
        " 2000\n",
        "Finished epoch 4 / 20: cost 1.258978, train: 0.612000, val 0.563000, lr 4.072531e-03"
       ]
      },
      {
       "output_type": "stream",
       "stream": "stdout",
       "text": [
        "\n",
        "starting iteration "
       ]
      },
      {
       "output_type": "stream",
       "stream": "stdout",
       "text": [
        " 2100\n",
        "Finished epoch 4 / 20: cost 1.165408, train: 0.596000, val 0.558000, lr 4.072531e-03"
       ]
      },
      {
       "output_type": "stream",
       "stream": "stdout",
       "text": [
        "\n",
        "starting iteration "
       ]
      },
      {
       "output_type": "stream",
       "stream": "stdout",
       "text": [
        " 2200\n",
        "Finished epoch 4 / 20: cost 1.202103, train: 0.620000, val 0.597000, lr 4.072531e-03"
       ]
      },
      {
       "output_type": "stream",
       "stream": "stdout",
       "text": [
        "\n",
        "starting iteration "
       ]
      },
      {
       "output_type": "stream",
       "stream": "stdout",
       "text": [
        " 2300\n",
        "Finished epoch 4 / 20: cost 1.362660, train: 0.623000, val 0.581000, lr 4.072531e-03"
       ]
      },
      {
       "output_type": "stream",
       "stream": "stdout",
       "text": [
        "\n",
        "starting iteration "
       ]
      },
      {
       "output_type": "stream",
       "stream": "stdout",
       "text": [
        " 2400\n",
        "Finished epoch 4 / 20: cost 1.004182, train: 0.638000, val 0.579000, lr 4.072531e-03"
       ]
      },
      {
       "output_type": "stream",
       "stream": "stdout",
       "text": [
        "\n",
        "Finished epoch 5 / 20: cost 1.023993, train: 0.604000, val 0.587000, lr 3.868905e-03"
       ]
      },
      {
       "output_type": "stream",
       "stream": "stdout",
       "text": [
        "\n",
        "starting iteration "
       ]
      },
      {
       "output_type": "stream",
       "stream": "stdout",
       "text": [
        " 2500\n",
        "Finished epoch 5 / 20: cost 0.958841, train: 0.633000, val 0.603000, lr 3.868905e-03"
       ]
      },
      {
       "output_type": "stream",
       "stream": "stdout",
       "text": [
        "\n",
        "starting iteration "
       ]
      },
      {
       "output_type": "stream",
       "stream": "stdout",
       "text": [
        " 2600\n",
        "Finished epoch 5 / 20: cost 1.256947, train: 0.618000, val 0.576000, lr 3.868905e-03"
       ]
      },
      {
       "output_type": "stream",
       "stream": "stdout",
       "text": [
        "\n",
        "starting iteration "
       ]
      },
      {
       "output_type": "stream",
       "stream": "stdout",
       "text": [
        " 2700\n",
        "Finished epoch 5 / 20: cost 1.120442, train: 0.573000, val 0.571000, lr 3.868905e-03"
       ]
      },
      {
       "output_type": "stream",
       "stream": "stdout",
       "text": [
        "\n",
        "starting iteration "
       ]
      },
      {
       "output_type": "stream",
       "stream": "stdout",
       "text": [
        " 2800\n",
        "Finished epoch 5 / 20: cost 1.174195, train: 0.631000, val 0.589000, lr 3.868905e-03"
       ]
      },
      {
       "output_type": "stream",
       "stream": "stdout",
       "text": [
        "\n",
        "starting iteration "
       ]
      },
      {
       "output_type": "stream",
       "stream": "stdout",
       "text": [
        " 2900\n",
        "Finished epoch 5 / 20: cost 1.370168, train: 0.628000, val 0.588000, lr 3.868905e-03"
       ]
      },
      {
       "output_type": "stream",
       "stream": "stdout",
       "text": [
        "\n",
        "Finished epoch 6 / 20: cost 1.128395, train: 0.624000, val 0.583000, lr 3.675459e-03"
       ]
      },
      {
       "output_type": "stream",
       "stream": "stdout",
       "text": [
        "\n",
        "starting iteration "
       ]
      },
      {
       "output_type": "stream",
       "stream": "stdout",
       "text": [
        " 3000\n",
        "Finished epoch 6 / 20: cost 1.044244, train: 0.636000, val 0.606000, lr 3.675459e-03"
       ]
      },
      {
       "output_type": "stream",
       "stream": "stdout",
       "text": [
        "\n",
        "starting iteration "
       ]
      },
      {
       "output_type": "stream",
       "stream": "stdout",
       "text": [
        " 3100\n",
        "Finished epoch 6 / 20: cost 1.349911, train: 0.640000, val 0.590000, lr 3.675459e-03"
       ]
      },
      {
       "output_type": "stream",
       "stream": "stdout",
       "text": [
        "\n",
        "starting iteration "
       ]
      },
      {
       "output_type": "stream",
       "stream": "stdout",
       "text": [
        " 3200\n",
        "Finished epoch 6 / 20: cost 0.972090, train: 0.625000, val 0.588000, lr 3.675459e-03"
       ]
      },
      {
       "output_type": "stream",
       "stream": "stdout",
       "text": [
        "\n",
        "starting iteration "
       ]
      },
      {
       "output_type": "stream",
       "stream": "stdout",
       "text": [
        " 3300\n",
        "Finished epoch 6 / 20: cost 1.345215, train: 0.610000, val 0.580000, lr 3.675459e-03"
       ]
      },
      {
       "output_type": "stream",
       "stream": "stdout",
       "text": [
        "\n",
        "starting iteration "
       ]
      },
      {
       "output_type": "stream",
       "stream": "stdout",
       "text": [
        " 3400\n",
        "Finished epoch 6 / 20: cost 1.151732, train: 0.621000, val 0.597000, lr 3.675459e-03"
       ]
      },
      {
       "output_type": "stream",
       "stream": "stdout",
       "text": [
        "\n",
        "Finished epoch 7 / 20: cost 1.353730, train: 0.655000, val 0.626000, lr 3.491686e-03"
       ]
      },
      {
       "output_type": "stream",
       "stream": "stdout",
       "text": [
        "\n",
        "starting iteration "
       ]
      },
      {
       "output_type": "stream",
       "stream": "stdout",
       "text": [
        " 3500\n",
        "Finished epoch 7 / 20: cost 1.200184, train: 0.695000, val 0.618000, lr 3.491686e-03"
       ]
      },
      {
       "output_type": "stream",
       "stream": "stdout",
       "text": [
        "\n",
        "starting iteration "
       ]
      },
      {
       "output_type": "stream",
       "stream": "stdout",
       "text": [
        " 3600\n",
        "Finished epoch 7 / 20: cost 1.224100, train: 0.660000, val 0.627000, lr 3.491686e-03"
       ]
      },
      {
       "output_type": "stream",
       "stream": "stdout",
       "text": [
        "\n",
        "starting iteration "
       ]
      },
      {
       "output_type": "stream",
       "stream": "stdout",
       "text": [
        " 3700\n",
        "Finished epoch 7 / 20: cost 1.284581, train: 0.636000, val 0.612000, lr 3.491686e-03"
       ]
      },
      {
       "output_type": "stream",
       "stream": "stdout",
       "text": [
        "\n",
        "starting iteration "
       ]
      },
      {
       "output_type": "stream",
       "stream": "stdout",
       "text": [
        " 3800\n",
        "Finished epoch 7 / 20: cost 1.409033, train: 0.636000, val 0.578000, lr 3.491686e-03"
       ]
      },
      {
       "output_type": "stream",
       "stream": "stdout",
       "text": [
        "\n",
        "starting iteration "
       ]
      },
      {
       "output_type": "stream",
       "stream": "stdout",
       "text": [
        " 3900\n",
        "Finished epoch 7 / 20: cost 1.181203, train: 0.643000, val 0.599000, lr 3.491686e-03"
       ]
      },
      {
       "output_type": "stream",
       "stream": "stdout",
       "text": [
        "\n",
        "Finished epoch 8 / 20: cost 1.251331, train: 0.656000, val 0.596000, lr 3.317102e-03"
       ]
      },
      {
       "output_type": "stream",
       "stream": "stdout",
       "text": [
        "\n",
        "starting iteration "
       ]
      },
      {
       "output_type": "stream",
       "stream": "stdout",
       "text": [
        " 4000\n",
        "Finished epoch 8 / 20: cost 1.084809, train: 0.655000, val 0.606000, lr 3.317102e-03"
       ]
      },
      {
       "output_type": "stream",
       "stream": "stdout",
       "text": [
        "\n",
        "starting iteration "
       ]
      },
      {
       "output_type": "stream",
       "stream": "stdout",
       "text": [
        " 4100\n",
        "Finished epoch 8 / 20: cost 0.893722, train: 0.659000, val 0.608000, lr 3.317102e-03"
       ]
      },
      {
       "output_type": "stream",
       "stream": "stdout",
       "text": [
        "\n",
        "starting iteration "
       ]
      },
      {
       "output_type": "stream",
       "stream": "stdout",
       "text": [
        " 4200\n",
        "Finished epoch 8 / 20: cost 0.986006, train: 0.657000, val 0.619000, lr 3.317102e-03"
       ]
      },
      {
       "output_type": "stream",
       "stream": "stdout",
       "text": [
        "\n",
        "starting iteration "
       ]
      },
      {
       "output_type": "stream",
       "stream": "stdout",
       "text": [
        " 4300\n",
        "Finished epoch 8 / 20: cost 1.308742, train: 0.657000, val 0.612000, lr 3.317102e-03"
       ]
      },
      {
       "output_type": "stream",
       "stream": "stdout",
       "text": [
        "\n",
        "starting iteration "
       ]
      },
      {
       "output_type": "stream",
       "stream": "stdout",
       "text": [
        " 4400\n",
        "Finished epoch 8 / 20: cost 1.044435, train: 0.689000, val 0.641000, lr 3.317102e-03"
       ]
      },
      {
       "output_type": "stream",
       "stream": "stdout",
       "text": [
        "\n",
        "Finished epoch 9 / 20: cost 1.131701, train: 0.665000, val 0.625000, lr 3.151247e-03"
       ]
      },
      {
       "output_type": "stream",
       "stream": "stdout",
       "text": [
        "\n",
        "starting iteration "
       ]
      },
      {
       "output_type": "stream",
       "stream": "stdout",
       "text": [
        " 4500\n",
        "Finished epoch 9 / 20: cost 1.215583, train: 0.662000, val 0.636000, lr 3.151247e-03"
       ]
      },
      {
       "output_type": "stream",
       "stream": "stdout",
       "text": [
        "\n",
        "starting iteration "
       ]
      },
      {
       "output_type": "stream",
       "stream": "stdout",
       "text": [
        " 4600\n",
        "Finished epoch 9 / 20: cost 1.194811, train: 0.656000, val 0.643000, lr 3.151247e-03"
       ]
      },
      {
       "output_type": "stream",
       "stream": "stdout",
       "text": [
        "\n",
        "starting iteration "
       ]
      },
      {
       "output_type": "stream",
       "stream": "stdout",
       "text": [
        " 4700\n",
        "Finished epoch 9 / 20: cost 1.145570, train: 0.651000, val 0.614000, lr 3.151247e-03"
       ]
      },
      {
       "output_type": "stream",
       "stream": "stdout",
       "text": [
        "\n",
        "starting iteration "
       ]
      },
      {
       "output_type": "stream",
       "stream": "stdout",
       "text": [
        " 4800\n",
        "Finished epoch 9 / 20: cost 0.755041, train: 0.704000, val 0.640000, lr 3.151247e-03"
       ]
      },
      {
       "output_type": "stream",
       "stream": "stdout",
       "text": [
        "\n",
        "Finished epoch 10 / 20: cost 1.138352, train: 0.672000, val 0.612000, lr 2.993685e-03"
       ]
      },
      {
       "output_type": "stream",
       "stream": "stdout",
       "text": [
        "\n",
        "starting iteration  4900\n",
        "Finished epoch 10 / 20: cost 1.230098, train: 0.689000, val 0.618000, lr 2.993685e-03"
       ]
      },
      {
       "output_type": "stream",
       "stream": "stdout",
       "text": [
        "\n",
        "starting iteration "
       ]
      },
      {
       "output_type": "stream",
       "stream": "stdout",
       "text": [
        " 5000\n",
        "Finished epoch 10 / 20: cost 0.832586, train: 0.717000, val 0.649000, lr 2.993685e-03"
       ]
      },
      {
       "output_type": "stream",
       "stream": "stdout",
       "text": [
        "\n",
        "starting iteration "
       ]
      },
      {
       "output_type": "stream",
       "stream": "stdout",
       "text": [
        " 5100\n",
        "Finished epoch 10 / 20: cost 0.961095, train: 0.683000, val 0.637000, lr 2.993685e-03"
       ]
      },
      {
       "output_type": "stream",
       "stream": "stdout",
       "text": [
        "\n",
        "starting iteration "
       ]
      },
      {
       "output_type": "stream",
       "stream": "stdout",
       "text": [
        " 5200\n",
        "Finished epoch 10 / 20: cost 0.979761, train: 0.664000, val 0.602000, lr 2.993685e-03"
       ]
      },
      {
       "output_type": "stream",
       "stream": "stdout",
       "text": [
        "\n",
        "starting iteration "
       ]
      },
      {
       "output_type": "stream",
       "stream": "stdout",
       "text": [
        " 5300\n",
        "Finished epoch 10 / 20: cost 1.122553, train: 0.696000, val 0.621000, lr 2.993685e-03"
       ]
      },
      {
       "output_type": "stream",
       "stream": "stdout",
       "text": [
        "\n",
        "Finished epoch 11 / 20: cost 0.835369, train: 0.682000, val 0.637000, lr 2.844000e-03"
       ]
      },
      {
       "output_type": "stream",
       "stream": "stdout",
       "text": [
        "\n",
        "starting iteration "
       ]
      },
      {
       "output_type": "stream",
       "stream": "stdout",
       "text": [
        " 5400\n",
        "Finished epoch 11 / 20: cost 1.099376, train: 0.703000, val 0.642000, lr 2.844000e-03"
       ]
      },
      {
       "output_type": "stream",
       "stream": "stdout",
       "text": [
        "\n",
        "starting iteration "
       ]
      },
      {
       "output_type": "stream",
       "stream": "stdout",
       "text": [
        " 5500\n",
        "Finished epoch 11 / 20: cost 0.829022, train: 0.706000, val 0.643000, lr 2.844000e-03"
       ]
      },
      {
       "output_type": "stream",
       "stream": "stdout",
       "text": [
        "\n",
        "starting iteration "
       ]
      },
      {
       "output_type": "stream",
       "stream": "stdout",
       "text": [
        " 5600\n",
        "Finished epoch 11 / 20: cost 1.216118, train: 0.716000, val 0.617000, lr 2.844000e-03"
       ]
      },
      {
       "output_type": "stream",
       "stream": "stdout",
       "text": [
        "\n",
        "starting iteration "
       ]
      },
      {
       "output_type": "stream",
       "stream": "stdout",
       "text": [
        " 5700\n",
        "Finished epoch 11 / 20: cost 1.132041, train: 0.744000, val 0.650000, lr 2.844000e-03"
       ]
      },
      {
       "output_type": "stream",
       "stream": "stdout",
       "text": [
        "\n",
        "starting iteration "
       ]
      },
      {
       "output_type": "stream",
       "stream": "stdout",
       "text": [
        " 5800\n",
        "Finished epoch 11 / 20: cost 0.960871, train: 0.721000, val 0.651000, lr 2.844000e-03"
       ]
      },
      {
       "output_type": "stream",
       "stream": "stdout",
       "text": [
        "\n",
        "Finished epoch 12 / 20: cost 1.013166, train: 0.715000, val 0.637000, lr 2.701800e-03"
       ]
      },
      {
       "output_type": "stream",
       "stream": "stdout",
       "text": [
        "\n",
        "starting iteration "
       ]
      },
      {
       "output_type": "stream",
       "stream": "stdout",
       "text": [
        " 5900\n",
        "Finished epoch 12 / 20: cost 0.938506, train: 0.725000, val 0.638000, lr 2.701800e-03"
       ]
      },
      {
       "output_type": "stream",
       "stream": "stdout",
       "text": [
        "\n",
        "starting iteration "
       ]
      },
      {
       "output_type": "stream",
       "stream": "stdout",
       "text": [
        " 6000\n",
        "Finished epoch 12 / 20: cost 0.900761, train: 0.709000, val 0.661000, lr 2.701800e-03"
       ]
      },
      {
       "output_type": "stream",
       "stream": "stdout",
       "text": [
        "\n",
        "starting iteration "
       ]
      },
      {
       "output_type": "stream",
       "stream": "stdout",
       "text": [
        " 6100\n",
        "Finished epoch 12 / 20: cost 0.885372, train: 0.710000, val 0.643000, lr 2.701800e-03"
       ]
      },
      {
       "output_type": "stream",
       "stream": "stdout",
       "text": [
        "\n",
        "starting iteration "
       ]
      },
      {
       "output_type": "stream",
       "stream": "stdout",
       "text": [
        " 6200\n",
        "Finished epoch 12 / 20: cost 1.058086, train: 0.721000, val 0.662000, lr 2.701800e-03"
       ]
      },
      {
       "output_type": "stream",
       "stream": "stdout",
       "text": [
        "\n",
        "starting iteration "
       ]
      },
      {
       "output_type": "stream",
       "stream": "stdout",
       "text": [
        " 6300\n",
        "Finished epoch 12 / 20: cost 0.916679, train: 0.718000, val 0.654000, lr 2.701800e-03"
       ]
      },
      {
       "output_type": "stream",
       "stream": "stdout",
       "text": [
        "\n",
        "Finished epoch 13 / 20: cost 0.854904, train: 0.734000, val 0.645000, lr 2.566710e-03"
       ]
      },
      {
       "output_type": "stream",
       "stream": "stdout",
       "text": [
        "\n",
        "starting iteration "
       ]
      },
      {
       "output_type": "stream",
       "stream": "stdout",
       "text": [
        " 6400\n",
        "Finished epoch 13 / 20: cost 0.983982, train: 0.733000, val 0.647000, lr 2.566710e-03"
       ]
      },
      {
       "output_type": "stream",
       "stream": "stdout",
       "text": [
        "\n",
        "starting iteration "
       ]
      },
      {
       "output_type": "stream",
       "stream": "stdout",
       "text": [
        " 6500\n",
        "Finished epoch 13 / 20: cost 0.868539, train: 0.729000, val 0.645000, lr 2.566710e-03"
       ]
      },
      {
       "output_type": "stream",
       "stream": "stdout",
       "text": [
        "\n",
        "starting iteration "
       ]
      },
      {
       "output_type": "stream",
       "stream": "stdout",
       "text": [
        " 6600\n",
        "Finished epoch 13 / 20: cost 0.884723, train: 0.736000, val 0.645000, lr 2.566710e-03"
       ]
      },
      {
       "output_type": "stream",
       "stream": "stdout",
       "text": [
        "\n",
        "starting iteration "
       ]
      },
      {
       "output_type": "stream",
       "stream": "stdout",
       "text": [
        " 6700\n",
        "Finished epoch 13 / 20: cost 0.752600, train: 0.752000, val 0.653000, lr 2.566710e-03"
       ]
      },
      {
       "output_type": "stream",
       "stream": "stdout",
       "text": [
        "\n",
        "starting iteration "
       ]
      },
      {
       "output_type": "stream",
       "stream": "stdout",
       "text": [
        " 6800\n",
        "Finished epoch 13 / 20: cost 1.119988, train: 0.704000, val 0.633000, lr 2.566710e-03"
       ]
      },
      {
       "output_type": "stream",
       "stream": "stdout",
       "text": [
        "\n",
        "Finished epoch 14 / 20: cost 0.763538, train: 0.766000, val 0.639000, lr 2.438375e-03"
       ]
      },
      {
       "output_type": "stream",
       "stream": "stdout",
       "text": [
        "\n",
        "starting iteration "
       ]
      },
      {
       "output_type": "stream",
       "stream": "stdout",
       "text": [
        " 6900\n",
        "Finished epoch 14 / 20: cost 0.941423, train: 0.771000, val 0.669000, lr 2.438375e-03"
       ]
      },
      {
       "output_type": "stream",
       "stream": "stdout",
       "text": [
        "\n",
        "starting iteration "
       ]
      },
      {
       "output_type": "stream",
       "stream": "stdout",
       "text": [
        " 7000\n",
        "Finished epoch 14 / 20: cost 0.818896, train: 0.753000, val 0.656000, lr 2.438375e-03"
       ]
      },
      {
       "output_type": "stream",
       "stream": "stdout",
       "text": [
        "\n",
        "starting iteration "
       ]
      },
      {
       "output_type": "stream",
       "stream": "stdout",
       "text": [
        " 7100\n",
        "Finished epoch 14 / 20: cost 0.803259, train: 0.724000, val 0.651000, lr 2.438375e-03"
       ]
      },
      {
       "output_type": "stream",
       "stream": "stdout",
       "text": [
        "\n",
        "starting iteration "
       ]
      },
      {
       "output_type": "stream",
       "stream": "stdout",
       "text": [
        " 7200\n",
        "Finished epoch 14 / 20: cost 0.898784, train: 0.720000, val 0.630000, lr 2.438375e-03"
       ]
      },
      {
       "output_type": "stream",
       "stream": "stdout",
       "text": [
        "\n",
        "starting iteration "
       ]
      },
      {
       "output_type": "stream",
       "stream": "stdout",
       "text": [
        " 7300\n",
        "Finished epoch 14 / 20: cost 0.954685, train: 0.753000, val 0.659000, lr 2.438375e-03"
       ]
      },
      {
       "output_type": "stream",
       "stream": "stdout",
       "text": [
        "\n",
        "Finished epoch 15 / 20: cost 0.765951, train: 0.743000, val 0.654000, lr 2.316456e-03"
       ]
      },
      {
       "output_type": "stream",
       "stream": "stdout",
       "text": [
        "\n",
        "starting iteration "
       ]
      },
      {
       "output_type": "stream",
       "stream": "stdout",
       "text": [
        " 7400\n",
        "Finished epoch 15 / 20: cost 0.951049, train: 0.728000, val 0.659000, lr 2.316456e-03"
       ]
      },
      {
       "output_type": "stream",
       "stream": "stdout",
       "text": [
        "\n",
        "starting iteration "
       ]
      },
      {
       "output_type": "stream",
       "stream": "stdout",
       "text": [
        " 7500\n",
        "Finished epoch 15 / 20: cost 0.781454, train: 0.748000, val 0.659000, lr 2.316456e-03"
       ]
      },
      {
       "output_type": "stream",
       "stream": "stdout",
       "text": [
        "\n",
        "starting iteration "
       ]
      },
      {
       "output_type": "stream",
       "stream": "stdout",
       "text": [
        " 7600\n",
        "Finished epoch 15 / 20: cost 0.866768, train: 0.757000, val 0.662000, lr 2.316456e-03"
       ]
      },
      {
       "output_type": "stream",
       "stream": "stdout",
       "text": [
        "\n",
        "starting iteration "
       ]
      },
      {
       "output_type": "stream",
       "stream": "stdout",
       "text": [
        " 7700\n",
        "Finished epoch 15 / 20: cost 0.889826, train: 0.778000, val 0.666000, lr 2.316456e-03"
       ]
      },
      {
       "output_type": "stream",
       "stream": "stdout",
       "text": [
        "\n",
        "starting iteration "
       ]
      },
      {
       "output_type": "stream",
       "stream": "stdout",
       "text": [
        " 7800\n",
        "Finished epoch 15 / 20: cost 0.799774, train: 0.773000, val 0.666000, lr 2.316456e-03"
       ]
      },
      {
       "output_type": "stream",
       "stream": "stdout",
       "text": [
        "\n",
        "Finished epoch 16 / 20: cost 0.950317, train: 0.792000, val 0.661000, lr 2.200633e-03"
       ]
      },
      {
       "output_type": "stream",
       "stream": "stdout",
       "text": [
        "\n",
        "starting iteration "
       ]
      },
      {
       "output_type": "stream",
       "stream": "stdout",
       "text": [
        " 7900\n",
        "Finished epoch 16 / 20: cost 1.071295, train: 0.756000, val 0.640000, lr 2.200633e-03"
       ]
      },
      {
       "output_type": "stream",
       "stream": "stdout",
       "text": [
        "\n",
        "starting iteration "
       ]
      },
      {
       "output_type": "stream",
       "stream": "stdout",
       "text": [
        " 8000\n",
        "Finished epoch 16 / 20: cost 0.784944, train: 0.777000, val 0.654000, lr 2.200633e-03"
       ]
      },
      {
       "output_type": "stream",
       "stream": "stdout",
       "text": [
        "\n",
        "starting iteration "
       ]
      },
      {
       "output_type": "stream",
       "stream": "stdout",
       "text": [
        " 8100\n",
        "Finished epoch 16 / 20: cost 0.702230, train: 0.806000, val 0.657000, lr 2.200633e-03"
       ]
      },
      {
       "output_type": "stream",
       "stream": "stdout",
       "text": [
        "\n",
        "starting iteration "
       ]
      },
      {
       "output_type": "stream",
       "stream": "stdout",
       "text": [
        " 8200\n",
        "Finished epoch 16 / 20: cost 0.969478, train: 0.783000, val 0.664000, lr 2.200633e-03"
       ]
      },
      {
       "output_type": "stream",
       "stream": "stdout",
       "text": [
        "\n",
        "starting iteration "
       ]
      },
      {
       "output_type": "stream",
       "stream": "stdout",
       "text": [
        " 8300\n",
        "Finished epoch 16 / 20: cost 0.827611, train: 0.756000, val 0.648000, lr 2.200633e-03"
       ]
      },
      {
       "output_type": "stream",
       "stream": "stdout",
       "text": [
        "\n",
        "Finished epoch 17 / 20: cost 0.647189, train: 0.795000, val 0.663000, lr 2.090602e-03"
       ]
      },
      {
       "output_type": "stream",
       "stream": "stdout",
       "text": [
        "\n",
        "starting iteration "
       ]
      },
      {
       "output_type": "stream",
       "stream": "stdout",
       "text": [
        " 8400\n",
        "Finished epoch 17 / 20: cost 0.954606, train: 0.761000, val 0.681000, lr 2.090602e-03"
       ]
      },
      {
       "output_type": "stream",
       "stream": "stdout",
       "text": [
        "\n",
        "starting iteration "
       ]
      },
      {
       "output_type": "stream",
       "stream": "stdout",
       "text": [
        " 8500\n",
        "Finished epoch 17 / 20: cost 0.668815, train: 0.787000, val 0.664000, lr 2.090602e-03"
       ]
      },
      {
       "output_type": "stream",
       "stream": "stdout",
       "text": [
        "\n",
        "starting iteration "
       ]
      },
      {
       "output_type": "stream",
       "stream": "stdout",
       "text": [
        " 8600\n",
        "Finished epoch 17 / 20: cost 0.886983, train: 0.794000, val 0.664000, lr 2.090602e-03"
       ]
      },
      {
       "output_type": "stream",
       "stream": "stdout",
       "text": [
        "\n",
        "starting iteration "
       ]
      },
      {
       "output_type": "stream",
       "stream": "stdout",
       "text": [
        " 8700\n",
        "Finished epoch 17 / 20: cost 0.946979, train: 0.777000, val 0.648000, lr 2.090602e-03"
       ]
      },
      {
       "output_type": "stream",
       "stream": "stdout",
       "text": [
        "\n",
        "starting iteration "
       ]
      },
      {
       "output_type": "stream",
       "stream": "stdout",
       "text": [
        " 8800\n",
        "Finished epoch 17 / 20: cost 0.810870, train: 0.775000, val 0.647000, lr 2.090602e-03"
       ]
      },
      {
       "output_type": "stream",
       "stream": "stdout",
       "text": [
        "\n",
        "Finished epoch 18 / 20: cost 0.598144, train: 0.787000, val 0.650000, lr 1.986072e-03"
       ]
      },
      {
       "output_type": "stream",
       "stream": "stdout",
       "text": [
        "\n",
        "starting iteration "
       ]
      },
      {
       "output_type": "stream",
       "stream": "stdout",
       "text": [
        " 8900\n",
        "Finished epoch 18 / 20: cost 1.021562, train: 0.776000, val 0.668000, lr 1.986072e-03"
       ]
      },
      {
       "output_type": "stream",
       "stream": "stdout",
       "text": [
        "\n",
        "starting iteration "
       ]
      },
      {
       "output_type": "stream",
       "stream": "stdout",
       "text": [
        " 9000\n",
        "Finished epoch 18 / 20: cost 0.647636, train: 0.795000, val 0.666000, lr 1.986072e-03"
       ]
      },
      {
       "output_type": "stream",
       "stream": "stdout",
       "text": [
        "\n",
        "starting iteration "
       ]
      },
      {
       "output_type": "stream",
       "stream": "stdout",
       "text": [
        " 9100\n",
        "Finished epoch 18 / 20: cost 0.803536, train: 0.760000, val 0.673000, lr 1.986072e-03"
       ]
      },
      {
       "output_type": "stream",
       "stream": "stdout",
       "text": [
        "\n",
        "starting iteration "
       ]
      },
      {
       "output_type": "stream",
       "stream": "stdout",
       "text": [
        " 9200\n",
        "Finished epoch 18 / 20: cost 0.769549, train: 0.782000, val 0.659000, lr 1.986072e-03"
       ]
      },
      {
       "output_type": "stream",
       "stream": "stdout",
       "text": [
        "\n",
        "starting iteration "
       ]
      },
      {
       "output_type": "stream",
       "stream": "stdout",
       "text": [
        " 9300\n",
        "Finished epoch 18 / 20: cost 0.717882, train: 0.765000, val 0.663000, lr 1.986072e-03"
       ]
      },
      {
       "output_type": "stream",
       "stream": "stdout",
       "text": [
        "\n",
        "Finished epoch 19 / 20: cost 0.838064, train: 0.784000, val 0.671000, lr 1.886768e-03"
       ]
      },
      {
       "output_type": "stream",
       "stream": "stdout",
       "text": [
        "\n",
        "starting iteration "
       ]
      },
      {
       "output_type": "stream",
       "stream": "stdout",
       "text": [
        " 9400\n",
        "Finished epoch 19 / 20: cost 0.582497, train: 0.798000, val 0.666000, lr 1.886768e-03"
       ]
      },
      {
       "output_type": "stream",
       "stream": "stdout",
       "text": [
        "\n",
        "starting iteration "
       ]
      },
      {
       "output_type": "stream",
       "stream": "stdout",
       "text": [
        " 9500\n",
        "Finished epoch 19 / 20: cost 0.909703, train: 0.777000, val 0.674000, lr 1.886768e-03"
       ]
      },
      {
       "output_type": "stream",
       "stream": "stdout",
       "text": [
        "\n",
        "starting iteration "
       ]
      },
      {
       "output_type": "stream",
       "stream": "stdout",
       "text": [
        " 9600\n",
        "Finished epoch 19 / 20: cost 1.068829, train: 0.812000, val 0.663000, lr 1.886768e-03"
       ]
      },
      {
       "output_type": "stream",
       "stream": "stdout",
       "text": [
        "\n",
        "starting iteration "
       ]
      },
      {
       "output_type": "stream",
       "stream": "stdout",
       "text": [
        " 9700\n",
        "Finished epoch 19 / 20: cost 0.861408, train: 0.786000, val 0.665000, lr 1.886768e-03"
       ]
      },
      {
       "output_type": "stream",
       "stream": "stdout",
       "text": [
        "\n",
        "Finished epoch 20 / 20: cost 0.592627, train: 0.813000, val 0.667000, lr 1.792430e-03"
       ]
      },
      {
       "output_type": "stream",
       "stream": "stdout",
       "text": [
        "\n",
        "finished optimization. best validation accuracy: 0.681000\n"
       ]
      }
     ],
     "prompt_number": 51
    },
    {
     "cell_type": "code",
     "collapsed": false,
     "input": [
      "plt.subplot(2, 1, 1)\n",
      "plt.plot(loss_history)\n",
      "plt.xlabel('iteration')\n",
      "plt.ylabel('loss')\n",
      "\n",
      "plt.subplot(2, 1, 2)\n",
      "plt.plot(train_acc_history)\n",
      "plt.plot(val_acc_history)\n",
      "plt.legend(['train', 'val'], loc='upper left')\n",
      "plt.xlabel('epoch')\n",
      "plt.ylabel('accuracy')\n",
      "plt.show()\n",
      "\n",
      "grid = visualize_grid(best_model['W1'].transpose(0, 2, 3, 1))\n",
      "plt.imshow(grid.astype('uint8'))\n",
      "\n"
     ],
     "language": "python",
     "metadata": {},
     "outputs": [
      {
       "metadata": {},
       "output_type": "display_data",
       "png": "[encoded data removed]",
       "text": [
        "<matplotlib.figure.Figure at 0x11151bb10>"
       ]
      },
      {
       "metadata": {},
       "output_type": "pyout",
       "prompt_number": 52,
       "text": [
        "<matplotlib.image.AxesImage at 0x112b8cd90>"
       ]
      },
      {
       "metadata": {},
       "output_type": "display_data",
       "png": "[encoded data removed]",
       "text": [
        "<matplotlib.figure.Figure at 0x112166310>"
       ]
      }
     ],
     "prompt_number": 52
    },
    {
     "cell_type": "code",
     "collapsed": false,
     "input": [
      "scores_test = four_layer_convnet(X_test, best_model, leak=0.01)\n",
      "print 'Test accuracy: ', np.mean(np.argmax(scores_test, axis=1) == y_test)\n"
     ],
     "language": "python",
     "metadata": {},
     "outputs": [
      {
       "output_type": "stream",
       "stream": "stdout",
       "text": [
        "Test accuracy:  0.67\n"
       ]
      }
     ],
     "prompt_number": 53
    }
   ],
   "metadata": {}
  }
 ]
}